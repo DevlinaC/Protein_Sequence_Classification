{
 "cells": [
  {
   "cell_type": "markdown",
   "metadata": {
    "colab_type": "text",
    "id": "iAHSXYnksSBj"
   },
   "source": [
    "# Protein Sequence Classification on pfam dataset"
   ]
  },
  {
   "cell_type": "markdown",
   "metadata": {
    "colab_type": "text",
    "id": "y_dDnHNus7SL"
   },
   "source": [
    "## 1. Business Problem"
   ]
  },
  {
   "cell_type": "markdown",
   "metadata": {
    "colab_type": "text",
    "id": "KmJ2E-Krs_xt"
   },
   "source": [
    "### 1.1 Description"
   ]
  },
  {
   "cell_type": "markdown",
   "metadata": {
    "colab_type": "text",
    "id": "MDx-UEBztDpK"
   },
   "source": [
    "[Proteins](https://en.wikipedia.org/wiki/Protein) are large, complex biomolecules that play many critical roles in biological bodies. Proteins are made up of one or more long chains of [amino acids](https://en.wikipedia.org/wiki/Amino_acid) sequences. These Sequence are the arrangement of amino acids in a protein held together by [peptide bonds](https://en.wikipedia.org/wiki/Peptide_bond). Proteins can be made from [20](https://www.hornetjuice.com/amino-acids-types/) different kinds of amino acids, and the structure and function of each protein are determined by the kinds of amino acids used to make it and how they are arranged. \n",
    "\n",
    "Understanding this relationship between amino acid sequence and protein function is a long-standing problem in moleculer biology with far-reaching scientific implications. Can we use deep learning that learns the relationship between unaligned amino acid sequences and their functional annotations across all 17929 families of the Pfam database.\n",
    "\n",
    "[Pfam](https://en.m.wikipedia.org/wiki/Pfam) is a database of [protein families](https://en.m.wikipedia.org/wiki/Protein_family) that includes their annotations and multiple sequence alignments.\n",
    "\n",
    "__Problem Statement__\n",
    "- Classification of protein's amino acid sequence to one of the protein family accession, based on PFam dataset.\n",
    "- In other words, the task is: given the amino acid sequence of the protein domain, predict which class it belongs to.\n"
   ]
  },
  {
   "cell_type": "markdown",
   "metadata": {
    "colab_type": "text",
    "id": "jtyg15A6ATsS"
   },
   "source": [
    "### 1.2 Sources/Useful Links"
   ]
  },
  {
   "cell_type": "markdown",
   "metadata": {
    "colab_type": "text",
    "id": "uPZiBF6ca_Sh"
   },
   "source": [
    "- Source: [Pfam seed random split](https://www.kaggle.com/googleai/pfam-seed-random-split)\n",
    "- Paper: [Using deep learning to annotate the protein universe](https://www.biorxiv.org/content/10.1101/626507v4.full)."
   ]
  },
  {
   "cell_type": "markdown",
   "metadata": {
    "colab_type": "text",
    "id": "eF6y4ZtNBAaY"
   },
   "source": [
    "### 1.3 Real world/Business Objectives and Constraints"
   ]
  },
  {
   "cell_type": "markdown",
   "metadata": {
    "colab_type": "text",
    "id": "0U6WEFA3BI0S"
   },
   "source": [
    "Objectives\n",
    "- Predict protein family accession from its amino acids sequence with high accuracy.\n",
    "\n",
    "Constraints\n",
    "- No strict latency concerns."
   ]
  },
  {
   "cell_type": "markdown",
   "metadata": {
    "colab_type": "text",
    "id": "ylHPrtMlBvyB"
   },
   "source": [
    "## 2. Machine Learning Problem"
   ]
  },
  {
   "cell_type": "markdown",
   "metadata": {
    "colab_type": "text",
    "id": "xdkPtpHiB45Y"
   },
   "source": [
    "### 2.1 Data"
   ]
  },
  {
   "cell_type": "markdown",
   "metadata": {
    "colab_type": "text",
    "id": "Vn03S7RtB8XS"
   },
   "source": [
    "#### 2.1.1 Data Overview"
   ]
  },
  {
   "cell_type": "markdown",
   "metadata": {
    "colab_type": "text",
    "id": "0R9yCaZiB_76"
   },
   "source": [
    "- `sequence`: These are usually the input features to the model. Amino acid sequence for this domain. There are 20 very common amino acids (frequency > 1,000,000), and 4 amino acids that are quite uncommon: X, U, B, O, Z.\n",
    "\n",
    "- `family_accession`: These are usually the labels for the model. Accession number in form PFxxxxx.y (Pfam), where xxxxx is the family accession, and y is the version number. Some values of y are greater than ten, and so 'y' has two digits.\n",
    "\n",
    "- `sequence_name`: Sequence name, in the form \"uniprot_accession_id/start_index-end_index\". \n",
    "\n",
    "- `aligned_sequence`: Contains a single sequence from the multiple sequence alignment (with the rest of the members of the family in seed, with gaps retained.\n",
    "\n",
    "- `family_id`: One word name for family. "
   ]
  },
  {
   "cell_type": "markdown",
   "metadata": {
    "colab_type": "text",
    "id": "u12YlDWcCr66"
   },
   "source": [
    "#### 2.1.2 Example Data point"
   ]
  },
  {
   "cell_type": "markdown",
   "metadata": {
    "colab_type": "text",
    "id": "OtOApClbCDfM"
   },
   "source": [
    "\n",
    "\n",
    "```\n",
    "sequence: HWLQMRDSMNTYNNMVNRCFATCIRSFQEKKVNAEEMDCTKRCVTKFVGYSQRVALRFAE \n",
    "family_accession: PF02953.15\n",
    "sequence_name: C5K6N5_PERM5/28-87\n",
    "aligned_sequence: ....HWLQMRDSMNTYNNMVNRCFATCI...........RS.F....QEKKVNAEE.....MDCT....KRCVTKFVGYSQRVALRFAE \n",
    "family_id: zf-Tim10_DDP\n",
    "```\n",
    "\n"
   ]
  },
  {
   "cell_type": "markdown",
   "metadata": {
    "colab_type": "text",
    "id": "z4tAp7Xrb5gX"
   },
   "source": [
    "#### 2.1.3 Data split"
   ]
  },
  {
   "cell_type": "markdown",
   "metadata": {
    "colab_type": "text",
    "id": "Cq-WD5arGu7x"
   },
   "source": [
    "- We have been provided with already done random split(train, val, test) of pfam dataset.\n",
    "  - Train - 80% (For training the models).\n",
    "  - Val - 10% (For hyperparameter tuning/model validation).\n",
    "  - Test - 10% (For acessing the model performance)."
   ]
  },
  {
   "cell_type": "markdown",
   "metadata": {
    "colab_type": "text",
    "id": "CUfCZp0ICwaF"
   },
   "source": [
    "### 2.2 Mapping the real world problem to an ML problem"
   ]
  },
  {
   "cell_type": "markdown",
   "metadata": {
    "colab_type": "text",
    "id": "24iT472YC2J-"
   },
   "source": [
    "#### 2.2.1 Type of Machine learning Problem"
   ]
  },
  {
   "cell_type": "markdown",
   "metadata": {
    "colab_type": "text",
    "id": "S7QCMBQJDIDw"
   },
   "source": [
    "It is a multi class classification problem, for a given sequence of amino acids we need to predict its family accession."
   ]
  },
  {
   "cell_type": "markdown",
   "metadata": {
    "colab_type": "text",
    "id": "qnlBgZX8DVP2"
   },
   "source": [
    "#### 2.2.2 Performance Metric"
   ]
  },
  {
   "cell_type": "markdown",
   "metadata": {
    "colab_type": "text",
    "id": "SZ5tn5EmDdYe"
   },
   "source": [
    "- Multi class log loss\n",
    "- Accuracy"
   ]
  },
  {
   "cell_type": "markdown",
   "metadata": {
    "colab_type": "text",
    "id": "zQJnjfq1D6Js"
   },
   "source": [
    "## 3. Exploratory Data Analysis"
   ]
  },
  {
   "cell_type": "markdown",
   "metadata": {
    "colab_type": "text",
    "id": "2YlZeBjv5ejk"
   },
   "source": [
    "### Importing Libraries"
   ]
  },
  {
   "cell_type": "code",
   "execution_count": 1,
   "metadata": {
    "colab": {
     "base_uri": "https://localhost:8080/",
     "height": 34
    },
    "colab_type": "code",
    "id": "EqLtXwPchzZf",
    "outputId": "932e4cc7-fbc1-4633-c736-87694a863a49"
   },
   "outputs": [
    {
     "name": "stderr",
     "output_type": "stream",
     "text": [
      "Using TensorFlow backend.\n"
     ]
    }
   ],
   "source": [
    "%matplotlib inline\n",
    "\n",
    "import os\n",
    "import gc\n",
    "\n",
    "import numpy as np\n",
    "import pandas as pd\n",
    "import matplotlib.pyplot as plt\n",
    "import seaborn as sns\n",
    "\n",
    "from collections import Counter\n",
    "from prettytable import PrettyTable\n",
    "\n",
    "from sklearn.preprocessing import LabelEncoder\n",
    "\n",
    "from keras.models import Model\n",
    "from keras import regularizers\n",
    "from keras.constraints import max_norm\n",
    "from keras.utils import to_categorical\n",
    "from keras.preprocessing.text import Tokenizer\n",
    "from keras.preprocessing.sequence import pad_sequences\n",
    "from keras.layers import Input, Dense, Dropout, Flatten, Activation\n",
    "from keras.layers import Conv1D, Add, MaxPooling1D, BatchNormalization\n",
    "from keras.layers import Embedding, Bidirectional, CuDNNLSTM, GlobalMaxPooling1D"
   ]
  },
  {
   "cell_type": "code",
   "execution_count": 0,
   "metadata": {
    "colab": {},
    "colab_type": "code",
    "id": "a_k-q8gv_J2_"
   },
   "outputs": [],
   "source": [
    "import tensorflow as tf\n",
    "tf.logging.set_verbosity(tf.logging.ERROR)"
   ]
  },
  {
   "cell_type": "code",
   "execution_count": 0,
   "metadata": {
    "colab": {},
    "colab_type": "code",
    "id": "L4wU9AP3jYWU"
   },
   "outputs": [],
   "source": [
    "from google.colab import drive\n",
    "drive.mount('/content/drive')"
   ]
  },
  {
   "cell_type": "markdown",
   "metadata": {
    "colab_type": "text",
    "id": "GCPrxSoI5jQZ"
   },
   "source": [
    "### Loading Data"
   ]
  },
  {
   "cell_type": "code",
   "execution_count": 4,
   "metadata": {
    "colab": {
     "base_uri": "https://localhost:8080/",
     "height": 34
    },
    "colab_type": "code",
    "id": "Is-kuTuGzYGN",
    "outputId": "f18eacc0-1ecd-4f50-b095-28facbdbf5ab"
   },
   "outputs": [
    {
     "name": "stdout",
     "output_type": "stream",
     "text": [
      "Available data ['dev', 'test', 'train']\n"
     ]
    }
   ],
   "source": [
    "data_path = 'drive/My Drive/Case_Study/pfam/random_split/'\n",
    "print('Available data', os.listdir(data_path))"
   ]
  },
  {
   "cell_type": "code",
   "execution_count": 0,
   "metadata": {
    "colab": {},
    "colab_type": "code",
    "id": "4NrlxI8tiIww"
   },
   "outputs": [],
   "source": [
    "# https://www.kaggle.com/drewbryant/starter-pfam-seed-random-split\n",
    "\n",
    "# data is randomly splitted in three folders [train(80%), test(10%), dev(10%)]\n",
    "# reading and concatinating data for each folder.\n",
    "\n",
    "def read_data(partition):\n",
    "  data = []\n",
    "  for fn in os.listdir(os.path.join(data_path, partition)):\n",
    "    with open(os.path.join(data_path, partition, fn)) as f:\n",
    "      data.append(pd.read_csv(f, index_col=None))\n",
    "  return pd.concat(data)"
   ]
  },
  {
   "cell_type": "code",
   "execution_count": 0,
   "metadata": {
    "colab": {},
    "colab_type": "code",
    "id": "Xy25Vu-K3MvW"
   },
   "outputs": [],
   "source": [
    "# reading all data_partitions\n",
    "\n",
    "df_train = read_data('train')\n",
    "df_val = read_data('dev')\n",
    "df_test = read_data('test')"
   ]
  },
  {
   "cell_type": "markdown",
   "metadata": {
    "colab_type": "text",
    "id": "lqRU2FBxezKq"
   },
   "source": [
    "### Basic Statistics"
   ]
  },
  {
   "cell_type": "code",
   "execution_count": 7,
   "metadata": {
    "colab": {
     "base_uri": "https://localhost:8080/",
     "height": 185
    },
    "colab_type": "code",
    "id": "pj2uvMN6pw7Y",
    "outputId": "7b3150a9-8065-4b68-e118-5153fa9295ee"
   },
   "outputs": [
    {
     "name": "stdout",
     "output_type": "stream",
     "text": [
      "<class 'pandas.core.frame.DataFrame'>\n",
      "Int64Index: 1086741 entries, 0 to 13514\n",
      "Data columns (total 5 columns):\n",
      "family_id           1086741 non-null object\n",
      "sequence_name       1086741 non-null object\n",
      "family_accession    1086741 non-null object\n",
      "aligned_sequence    1086741 non-null object\n",
      "sequence            1086741 non-null object\n",
      "dtypes: object(5)\n",
      "memory usage: 49.7+ MB\n"
     ]
    }
   ],
   "source": [
    "df_train.info()"
   ]
  },
  {
   "cell_type": "code",
   "execution_count": 8,
   "metadata": {
    "colab": {
     "base_uri": "https://localhost:8080/",
     "height": 67
    },
    "colab_type": "code",
    "id": "lYmykaXe3aKy",
    "outputId": "17041b5e-7ef8-4d62-b029-6e3e9ceae233"
   },
   "outputs": [
    {
     "name": "stdout",
     "output_type": "stream",
     "text": [
      "Train size:  1086741\n",
      "Val size:  126171\n",
      "Test size:  126171\n"
     ]
    }
   ],
   "source": [
    "print('Train size: ', len(df_train))\n",
    "print('Val size: ', len(df_val))\n",
    "print('Test size: ', len(df_test))"
   ]
  },
  {
   "cell_type": "code",
   "execution_count": 9,
   "metadata": {
    "colab": {
     "base_uri": "https://localhost:8080/",
     "height": 34
    },
    "colab_type": "code",
    "id": "bOGBUMFw-CdY",
    "outputId": "fde215a9-0ba9-4ea4-eaf3-f25ab82829b8"
   },
   "outputs": [
    {
     "data": {
      "text/plain": [
       "((300000, 5), (10000, 5), (10000, 5))"
      ]
     },
     "execution_count": 9,
     "metadata": {
      "tags": []
     },
     "output_type": "execute_result"
    }
   ],
   "source": [
    "# considering less data because of memory issues.\n",
    "\n",
    "train = df_train[0:300000]\n",
    "val = df_val[0:10000]\n",
    "test = df_test[0:10000]\n",
    "\n",
    "train.shape, val.shape, test.shape"
   ]
  },
  {
   "cell_type": "code",
   "execution_count": 10,
   "metadata": {
    "colab": {
     "base_uri": "https://localhost:8080/",
     "height": 249
    },
    "colab_type": "code",
    "id": "fvvyiT4PTlew",
    "outputId": "8b01ab8d-98db-4b7a-ac45-ba4f97a7da4f"
   },
   "outputs": [
    {
     "data": {
      "text/html": [
       "<div>\n",
       "<style scoped>\n",
       "    .dataframe tbody tr th:only-of-type {\n",
       "        vertical-align: middle;\n",
       "    }\n",
       "\n",
       "    .dataframe tbody tr th {\n",
       "        vertical-align: top;\n",
       "    }\n",
       "\n",
       "    .dataframe thead th {\n",
       "        text-align: right;\n",
       "    }\n",
       "</style>\n",
       "<table border=\"1\" class=\"dataframe\">\n",
       "  <thead>\n",
       "    <tr style=\"text-align: right;\">\n",
       "      <th></th>\n",
       "      <th>family_id</th>\n",
       "      <th>sequence_name</th>\n",
       "      <th>family_accession</th>\n",
       "      <th>aligned_sequence</th>\n",
       "      <th>sequence</th>\n",
       "    </tr>\n",
       "  </thead>\n",
       "  <tbody>\n",
       "    <tr>\n",
       "      <th>0</th>\n",
       "      <td>GMC_oxred_C</td>\n",
       "      <td>A4WZS5_RHOS5/416-539</td>\n",
       "      <td>PF05199.13</td>\n",
       "      <td>PHPE.SRIRLST.RRDAHGMP.....IP.RIESRLGP............</td>\n",
       "      <td>PHPESRIRLSTRRDAHGMPIPRIESRLGPDAFARLRFMARTCRAIL...</td>\n",
       "    </tr>\n",
       "    <tr>\n",
       "      <th>1</th>\n",
       "      <td>DUF2887</td>\n",
       "      <td>K9QI92_9NOSO/3-203</td>\n",
       "      <td>PF11103.8</td>\n",
       "      <td>RDSIYYQIFKRFPALIFEL..VD.NRPPQAQNYRFESVEVKETAFR...</td>\n",
       "      <td>RDSIYYQIFKRFPALIFELVDNRPPQAQNYRFESVEVKETAFRIDG...</td>\n",
       "    </tr>\n",
       "    <tr>\n",
       "      <th>2</th>\n",
       "      <td>zf-IS66</td>\n",
       "      <td>Q92LC9_RHIME/32-75</td>\n",
       "      <td>PF13005.7</td>\n",
       "      <td>.TCCPDCGG.E..LRLVGED.AS....EILDMI.AAQMKVIEVARL...</td>\n",
       "      <td>TCCPDCGGELRLVGEDASEILDMIAAQMKVIEVARLKKSCRCCE</td>\n",
       "    </tr>\n",
       "    <tr>\n",
       "      <th>3</th>\n",
       "      <td>Asp_decarbox</td>\n",
       "      <td>X2GQZ4_9BACI/1-115</td>\n",
       "      <td>PF02261.16</td>\n",
       "      <td>MLRMMMNSKIHRATVTEADLNYVGSITIDEDILDAVGMLPNEKVHI...</td>\n",
       "      <td>MLRMMMNSKIHRATVTEADLNYVGSITIDEDILDAVGMLPNEKVHI...</td>\n",
       "    </tr>\n",
       "    <tr>\n",
       "      <th>4</th>\n",
       "      <td>Filamin</td>\n",
       "      <td>A7SQM3_NEMVE/342-439</td>\n",
       "      <td>PF00630.19</td>\n",
       "      <td>TACPKQ.CTA....RGLG.............LK.AAPVT.QPT..R...</td>\n",
       "      <td>TACPKQCTARGLGLKAAPVTQPTRFVVILNDCHGQPLGRSEGELEV...</td>\n",
       "    </tr>\n",
       "  </tbody>\n",
       "</table>\n",
       "</div>"
      ],
      "text/plain": [
       "      family_id  ...                                           sequence\n",
       "0   GMC_oxred_C  ...  PHPESRIRLSTRRDAHGMPIPRIESRLGPDAFARLRFMARTCRAIL...\n",
       "1       DUF2887  ...  RDSIYYQIFKRFPALIFELVDNRPPQAQNYRFESVEVKETAFRIDG...\n",
       "2       zf-IS66  ...       TCCPDCGGELRLVGEDASEILDMIAAQMKVIEVARLKKSCRCCE\n",
       "3  Asp_decarbox  ...  MLRMMMNSKIHRATVTEADLNYVGSITIDEDILDAVGMLPNEKVHI...\n",
       "4       Filamin  ...  TACPKQCTARGLGLKAAPVTQPTRFVVILNDCHGQPLGRSEGELEV...\n",
       "\n",
       "[5 rows x 5 columns]"
      ]
     },
     "execution_count": 10,
     "metadata": {
      "tags": []
     },
     "output_type": "execute_result"
    }
   ],
   "source": [
    "train.head()"
   ]
  },
  {
   "cell_type": "code",
   "execution_count": 11,
   "metadata": {
    "colab": {
     "base_uri": "https://localhost:8080/",
     "height": 54
    },
    "colab_type": "code",
    "id": "FZD6gGJLd7uB",
    "outputId": "ce5b7c08-086f-419a-d5bf-2094f4ce2702"
   },
   "outputs": [
    {
     "data": {
      "text/plain": [
       "'PHPESRIRLSTRRDAHGMPIPRIESRLGPDAFARLRFMARTCRAILAAAGCAAPFEEFSSADAFSSTHVFGTCRMGHDPMRNVVDGWGRSHRWPNLFVADASLFPSSGGGESPGLTIQALALRT'"
      ]
     },
     "execution_count": 11,
     "metadata": {
      "tags": []
     },
     "output_type": "execute_result"
    }
   ],
   "source": [
    "# ex: unaligned sequence\n",
    "# each character reperesents one of the 24(20 common + 4 uncommon) amino acids.\n",
    "\n",
    "train.head(1)['sequence'].values[0]"
   ]
  },
  {
   "cell_type": "code",
   "execution_count": 12,
   "metadata": {
    "colab": {
     "base_uri": "https://localhost:8080/",
     "height": 67
    },
    "colab_type": "code",
    "id": "0sRhsRRqUGGV",
    "outputId": "f6c8ce21-617a-4b8c-a2b0-fbba229b3701"
   },
   "outputs": [
    {
     "name": "stdout",
     "output_type": "stream",
     "text": [
      "Number of unique classes in Train:  16341\n",
      "Number of unique classes in Val:  4921\n",
      "Number of unique classes in Test:  4934\n"
     ]
    }
   ],
   "source": [
    "train_unq = np.unique(train['family_accession'].values)\n",
    "val_unq = np.unique(val['family_accession'].values)\n",
    "test_unq = np.unique(test['family_accession'].values)\n",
    "\n",
    "print('Number of unique classes in Train: ', len(train_unq))\n",
    "print('Number of unique classes in Val: ', len(val_unq))\n",
    "print('Number of unique classes in Test: ', len(test_unq))"
   ]
  },
  {
   "cell_type": "code",
   "execution_count": 13,
   "metadata": {
    "colab": {
     "base_uri": "https://localhost:8080/",
     "height": 34
    },
    "colab_type": "code",
    "id": "ARl4Xtiu_471",
    "outputId": "5188610c-ad9c-4ea2-b2b4-d09be5e78a31"
   },
   "outputs": [
    {
     "name": "stdout",
     "output_type": "stream",
     "text": [
      "Total number of unique classes in all splits 2900\n"
     ]
    }
   ],
   "source": [
    "# Number of unique classes in all splits\n",
    "unique_classes = np.intersect1d(np.intersect1d(train_unq, val_unq), test_unq)\n",
    "print('Total number of unique classes in all splits', len(unique_classes))"
   ]
  },
  {
   "cell_type": "code",
   "execution_count": 14,
   "metadata": {
    "colab": {
     "base_uri": "https://localhost:8080/",
     "height": 50
    },
    "colab_type": "code",
    "id": "sVC7Yql1AXdX",
    "outputId": "716ebadb-3691-4d81-c890-2b563417c9c9"
   },
   "outputs": [
    {
     "data": {
      "text/plain": [
       "array(['PF00003.22', 'PF00006.25', 'PF00008.27', ..., 'PF18846.1',\n",
       "       'PF18859.1', 'PF18863.1'], dtype=object)"
      ]
     },
     "execution_count": 14,
     "metadata": {
      "tags": []
     },
     "output_type": "execute_result"
    }
   ],
   "source": [
    "unique_classes"
   ]
  },
  {
   "cell_type": "code",
   "execution_count": 15,
   "metadata": {
    "colab": {
     "base_uri": "https://localhost:8080/",
     "height": 84
    },
    "colab_type": "code",
    "id": "q5PR6NZ5AlZD",
    "outputId": "8b050a86-0831-41ad-fcce-5828e7818211"
   },
   "outputs": [
    {
     "name": "stdout",
     "output_type": "stream",
     "text": [
      "Data size after considering unique classes for each split\n",
      "Train size:  174649\n",
      "Val size:  7359\n",
      "Test size:  7370\n"
     ]
    }
   ],
   "source": [
    "# Considering observations which are in the total unique_classes.\n",
    "\n",
    "train = train.loc[train['family_accession'].isin(unique_classes)].reset_index()\n",
    "val = val.loc[val['family_accession'].isin(unique_classes)].reset_index()\n",
    "test = test.loc[test['family_accession'].isin(unique_classes)].reset_index()\n",
    "\n",
    "print('Data size after considering unique classes for each split')\n",
    "print('Train size: ', len(train))\n",
    "print('Val size: ', len(val))\n",
    "print('Test size: ', len(test))"
   ]
  },
  {
   "cell_type": "markdown",
   "metadata": {
    "colab_type": "text",
    "id": "7XvpRxecd_B1"
   },
   "source": [
    "### Sequence Counts"
   ]
  },
  {
   "cell_type": "code",
   "execution_count": 0,
   "metadata": {
    "colab": {},
    "colab_type": "code",
    "id": "ViaJx_Peu5y_"
   },
   "outputs": [],
   "source": [
    "# Length of sequence in train data.\n",
    "train['seq_char_count']= train['sequence'].apply(lambda x: len(x))\n",
    "val['seq_char_count']= val['sequence'].apply(lambda x: len(x))\n",
    "test['seq_char_count']= test['sequence'].apply(lambda x: len(x))"
   ]
  },
  {
   "cell_type": "code",
   "execution_count": 0,
   "metadata": {
    "colab": {},
    "colab_type": "code",
    "id": "ATEmEmeAYoeB"
   },
   "outputs": [],
   "source": [
    "def plot_seq_count(df, data_name):\n",
    "  sns.distplot(df['seq_char_count'].values)\n",
    "  plt.title(f'Sequence char count: {data_name}')\n",
    "  plt.grid(True)"
   ]
  },
  {
   "cell_type": "code",
   "execution_count": 0,
   "metadata": {
    "colab": {
     "base_uri": "https://localhost:8080/",
     "height": 301
    },
    "colab_type": "code",
    "id": "G1Mo0m3yFAFu",
    "outputId": "524f114e-0053-4106-a8c2-86d069446de6"
   },
   "outputs": [
    {
     "data": {
      "image/png": "[encoded data removed]",
      "text/plain": [
       "<Figure size 432x288 with 3 Axes>"
      ]
     },
     "metadata": {
      "tags": []
     },
     "output_type": "display_data"
    }
   ],
   "source": [
    "plt.subplot(1, 3, 1)\n",
    "plot_seq_count(train, 'Train')\n",
    "\n",
    "plt.subplot(1, 3, 2)\n",
    "plot_seq_count(val, 'Val')\n",
    "\n",
    "plt.subplot(1, 3, 3)\n",
    "plot_seq_count(test, 'Test')\n",
    "\n",
    "plt.subplots_adjust(right=3.0)\n",
    "plt.show()"
   ]
  },
  {
   "cell_type": "markdown",
   "metadata": {
    "colab_type": "text",
    "id": "-ZIi2DB6bLpc"
   },
   "source": [
    "__Observation__\n",
    "- Most of the unaligned amino acid sequences have character counts in the range of 50-200."
   ]
  },
  {
   "cell_type": "markdown",
   "metadata": {
    "colab_type": "text",
    "id": "LFxzvA1oeJGm"
   },
   "source": [
    "### Sequence Code Frequency"
   ]
  },
  {
   "cell_type": "code",
   "execution_count": 0,
   "metadata": {
    "colab": {},
    "colab_type": "code",
    "id": "Mm54TAoH_C8t"
   },
   "outputs": [],
   "source": [
    "def get_code_freq(df, data_name):\n",
    "  \n",
    "  df = df.apply(lambda x: \" \".join(x))\n",
    "  \n",
    "  codes = []\n",
    "  for i in df: # concatination of all codes\n",
    "    codes.extend(i)\n",
    "\n",
    "  codes_dict= Counter(codes)\n",
    "  codes_dict.pop(' ') # removing white space\n",
    "  \n",
    "  print(f'Codes: {data_name}')\n",
    "  print(f'Total unique codes: {len(codes_dict.keys())}')\n",
    "\n",
    "  df = pd.DataFrame({'Code': list(codes_dict.keys()), 'Freq': list(codes_dict.values())})\n",
    "  return df.sort_values('Freq', ascending=False).reset_index()[['Code', 'Freq']]"
   ]
  },
  {
   "cell_type": "code",
   "execution_count": 0,
   "metadata": {
    "colab": {
     "base_uri": "https://localhost:8080/",
     "height": 762
    },
    "colab_type": "code",
    "id": "lekmtCh9KXrY",
    "outputId": "5c3d59d3-7188-415a-9763-f0b37e2d48bf"
   },
   "outputs": [
    {
     "name": "stdout",
     "output_type": "stream",
     "text": [
      "Codes: Train\n",
      "Total unique codes: 23\n"
     ]
    },
    {
     "data": {
      "text/html": [
       "<div>\n",
       "<style scoped>\n",
       "    .dataframe tbody tr th:only-of-type {\n",
       "        vertical-align: middle;\n",
       "    }\n",
       "\n",
       "    .dataframe tbody tr th {\n",
       "        vertical-align: top;\n",
       "    }\n",
       "\n",
       "    .dataframe thead th {\n",
       "        text-align: right;\n",
       "    }\n",
       "</style>\n",
       "<table border=\"1\" class=\"dataframe\">\n",
       "  <thead>\n",
       "    <tr style=\"text-align: right;\">\n",
       "      <th></th>\n",
       "      <th>Code</th>\n",
       "      <th>Freq</th>\n",
       "    </tr>\n",
       "  </thead>\n",
       "  <tbody>\n",
       "    <tr>\n",
       "      <th>0</th>\n",
       "      <td>L</td>\n",
       "      <td>2616177</td>\n",
       "    </tr>\n",
       "    <tr>\n",
       "      <th>1</th>\n",
       "      <td>A</td>\n",
       "      <td>2302173</td>\n",
       "    </tr>\n",
       "    <tr>\n",
       "      <th>2</th>\n",
       "      <td>G</td>\n",
       "      <td>1925519</td>\n",
       "    </tr>\n",
       "    <tr>\n",
       "      <th>3</th>\n",
       "      <td>V</td>\n",
       "      <td>1904620</td>\n",
       "    </tr>\n",
       "    <tr>\n",
       "      <th>4</th>\n",
       "      <td>E</td>\n",
       "      <td>1640466</td>\n",
       "    </tr>\n",
       "    <tr>\n",
       "      <th>5</th>\n",
       "      <td>I</td>\n",
       "      <td>1631716</td>\n",
       "    </tr>\n",
       "    <tr>\n",
       "      <th>6</th>\n",
       "      <td>S</td>\n",
       "      <td>1549521</td>\n",
       "    </tr>\n",
       "    <tr>\n",
       "      <th>7</th>\n",
       "      <td>R</td>\n",
       "      <td>1444935</td>\n",
       "    </tr>\n",
       "    <tr>\n",
       "      <th>8</th>\n",
       "      <td>D</td>\n",
       "      <td>1428929</td>\n",
       "    </tr>\n",
       "    <tr>\n",
       "      <th>9</th>\n",
       "      <td>T</td>\n",
       "      <td>1393216</td>\n",
       "    </tr>\n",
       "    <tr>\n",
       "      <th>10</th>\n",
       "      <td>K</td>\n",
       "      <td>1367811</td>\n",
       "    </tr>\n",
       "    <tr>\n",
       "      <th>11</th>\n",
       "      <td>P</td>\n",
       "      <td>1119584</td>\n",
       "    </tr>\n",
       "    <tr>\n",
       "      <th>12</th>\n",
       "      <td>F</td>\n",
       "      <td>1088157</td>\n",
       "    </tr>\n",
       "    <tr>\n",
       "      <th>13</th>\n",
       "      <td>N</td>\n",
       "      <td>984063</td>\n",
       "    </tr>\n",
       "    <tr>\n",
       "      <th>14</th>\n",
       "      <td>Q</td>\n",
       "      <td>910792</td>\n",
       "    </tr>\n",
       "    <tr>\n",
       "      <th>15</th>\n",
       "      <td>Y</td>\n",
       "      <td>840470</td>\n",
       "    </tr>\n",
       "    <tr>\n",
       "      <th>16</th>\n",
       "      <td>M</td>\n",
       "      <td>583577</td>\n",
       "    </tr>\n",
       "    <tr>\n",
       "      <th>17</th>\n",
       "      <td>H</td>\n",
       "      <td>565572</td>\n",
       "    </tr>\n",
       "    <tr>\n",
       "      <th>18</th>\n",
       "      <td>C</td>\n",
       "      <td>347613</td>\n",
       "    </tr>\n",
       "    <tr>\n",
       "      <th>19</th>\n",
       "      <td>W</td>\n",
       "      <td>337636</td>\n",
       "    </tr>\n",
       "    <tr>\n",
       "      <th>20</th>\n",
       "      <td>X</td>\n",
       "      <td>249</td>\n",
       "    </tr>\n",
       "    <tr>\n",
       "      <th>21</th>\n",
       "      <td>U</td>\n",
       "      <td>8</td>\n",
       "    </tr>\n",
       "    <tr>\n",
       "      <th>22</th>\n",
       "      <td>B</td>\n",
       "      <td>3</td>\n",
       "    </tr>\n",
       "  </tbody>\n",
       "</table>\n",
       "</div>"
      ],
      "text/plain": [
       "   Code     Freq\n",
       "0     L  2616177\n",
       "1     A  2302173\n",
       "2     G  1925519\n",
       "3     V  1904620\n",
       "4     E  1640466\n",
       "5     I  1631716\n",
       "6     S  1549521\n",
       "7     R  1444935\n",
       "8     D  1428929\n",
       "9     T  1393216\n",
       "10    K  1367811\n",
       "11    P  1119584\n",
       "12    F  1088157\n",
       "13    N   984063\n",
       "14    Q   910792\n",
       "15    Y   840470\n",
       "16    M   583577\n",
       "17    H   565572\n",
       "18    C   347613\n",
       "19    W   337636\n",
       "20    X      249\n",
       "21    U        8\n",
       "22    B        3"
      ]
     },
     "execution_count": 132,
     "metadata": {
      "tags": []
     },
     "output_type": "execute_result"
    }
   ],
   "source": [
    "# train code sequence\n",
    "train_code_freq = get_code_freq(train['sequence'], 'Train')\n",
    "train_code_freq"
   ]
  },
  {
   "cell_type": "code",
   "execution_count": 0,
   "metadata": {
    "colab": {
     "base_uri": "https://localhost:8080/",
     "height": 702
    },
    "colab_type": "code",
    "id": "26OQZxJbDABI",
    "outputId": "e51ea332-025e-4f47-fa14-09adb88e95b3"
   },
   "outputs": [
    {
     "name": "stdout",
     "output_type": "stream",
     "text": [
      "Codes: Val\n",
      "Total unique codes: 21\n"
     ]
    },
    {
     "data": {
      "text/html": [
       "<div>\n",
       "<style scoped>\n",
       "    .dataframe tbody tr th:only-of-type {\n",
       "        vertical-align: middle;\n",
       "    }\n",
       "\n",
       "    .dataframe tbody tr th {\n",
       "        vertical-align: top;\n",
       "    }\n",
       "\n",
       "    .dataframe thead th {\n",
       "        text-align: right;\n",
       "    }\n",
       "</style>\n",
       "<table border=\"1\" class=\"dataframe\">\n",
       "  <thead>\n",
       "    <tr style=\"text-align: right;\">\n",
       "      <th></th>\n",
       "      <th>Code</th>\n",
       "      <th>Freq</th>\n",
       "    </tr>\n",
       "  </thead>\n",
       "  <tbody>\n",
       "    <tr>\n",
       "      <th>0</th>\n",
       "      <td>L</td>\n",
       "      <td>111112</td>\n",
       "    </tr>\n",
       "    <tr>\n",
       "      <th>1</th>\n",
       "      <td>A</td>\n",
       "      <td>97123</td>\n",
       "    </tr>\n",
       "    <tr>\n",
       "      <th>2</th>\n",
       "      <td>G</td>\n",
       "      <td>80620</td>\n",
       "    </tr>\n",
       "    <tr>\n",
       "      <th>3</th>\n",
       "      <td>V</td>\n",
       "      <td>80522</td>\n",
       "    </tr>\n",
       "    <tr>\n",
       "      <th>4</th>\n",
       "      <td>E</td>\n",
       "      <td>70100</td>\n",
       "    </tr>\n",
       "    <tr>\n",
       "      <th>5</th>\n",
       "      <td>I</td>\n",
       "      <td>68433</td>\n",
       "    </tr>\n",
       "    <tr>\n",
       "      <th>6</th>\n",
       "      <td>S</td>\n",
       "      <td>67606</td>\n",
       "    </tr>\n",
       "    <tr>\n",
       "      <th>7</th>\n",
       "      <td>R</td>\n",
       "      <td>61732</td>\n",
       "    </tr>\n",
       "    <tr>\n",
       "      <th>8</th>\n",
       "      <td>D</td>\n",
       "      <td>60886</td>\n",
       "    </tr>\n",
       "    <tr>\n",
       "      <th>9</th>\n",
       "      <td>T</td>\n",
       "      <td>59174</td>\n",
       "    </tr>\n",
       "    <tr>\n",
       "      <th>10</th>\n",
       "      <td>K</td>\n",
       "      <td>59012</td>\n",
       "    </tr>\n",
       "    <tr>\n",
       "      <th>11</th>\n",
       "      <td>P</td>\n",
       "      <td>48408</td>\n",
       "    </tr>\n",
       "    <tr>\n",
       "      <th>12</th>\n",
       "      <td>F</td>\n",
       "      <td>46481</td>\n",
       "    </tr>\n",
       "    <tr>\n",
       "      <th>13</th>\n",
       "      <td>N</td>\n",
       "      <td>42485</td>\n",
       "    </tr>\n",
       "    <tr>\n",
       "      <th>14</th>\n",
       "      <td>Q</td>\n",
       "      <td>39456</td>\n",
       "    </tr>\n",
       "    <tr>\n",
       "      <th>15</th>\n",
       "      <td>Y</td>\n",
       "      <td>36205</td>\n",
       "    </tr>\n",
       "    <tr>\n",
       "      <th>16</th>\n",
       "      <td>M</td>\n",
       "      <td>24893</td>\n",
       "    </tr>\n",
       "    <tr>\n",
       "      <th>17</th>\n",
       "      <td>H</td>\n",
       "      <td>24082</td>\n",
       "    </tr>\n",
       "    <tr>\n",
       "      <th>18</th>\n",
       "      <td>W</td>\n",
       "      <td>15051</td>\n",
       "    </tr>\n",
       "    <tr>\n",
       "      <th>19</th>\n",
       "      <td>C</td>\n",
       "      <td>14896</td>\n",
       "    </tr>\n",
       "    <tr>\n",
       "      <th>20</th>\n",
       "      <td>X</td>\n",
       "      <td>4</td>\n",
       "    </tr>\n",
       "  </tbody>\n",
       "</table>\n",
       "</div>"
      ],
      "text/plain": [
       "   Code    Freq\n",
       "0     L  111112\n",
       "1     A   97123\n",
       "2     G   80620\n",
       "3     V   80522\n",
       "4     E   70100\n",
       "5     I   68433\n",
       "6     S   67606\n",
       "7     R   61732\n",
       "8     D   60886\n",
       "9     T   59174\n",
       "10    K   59012\n",
       "11    P   48408\n",
       "12    F   46481\n",
       "13    N   42485\n",
       "14    Q   39456\n",
       "15    Y   36205\n",
       "16    M   24893\n",
       "17    H   24082\n",
       "18    W   15051\n",
       "19    C   14896\n",
       "20    X       4"
      ]
     },
     "execution_count": 133,
     "metadata": {
      "tags": []
     },
     "output_type": "execute_result"
    }
   ],
   "source": [
    "# val code sequence\n",
    "val_code_freq = get_code_freq(val['sequence'], 'Val')\n",
    "val_code_freq"
   ]
  },
  {
   "cell_type": "code",
   "execution_count": 0,
   "metadata": {
    "colab": {
     "base_uri": "https://localhost:8080/",
     "height": 732
    },
    "colab_type": "code",
    "id": "CEcQG5Y2CVvA",
    "outputId": "813d989c-7538-4fd5-bb0e-2ed3bb89b9c1"
   },
   "outputs": [
    {
     "name": "stdout",
     "output_type": "stream",
     "text": [
      "Codes: Test\n",
      "Total unique codes: 22\n"
     ]
    },
    {
     "data": {
      "text/html": [
       "<div>\n",
       "<style scoped>\n",
       "    .dataframe tbody tr th:only-of-type {\n",
       "        vertical-align: middle;\n",
       "    }\n",
       "\n",
       "    .dataframe tbody tr th {\n",
       "        vertical-align: top;\n",
       "    }\n",
       "\n",
       "    .dataframe thead th {\n",
       "        text-align: right;\n",
       "    }\n",
       "</style>\n",
       "<table border=\"1\" class=\"dataframe\">\n",
       "  <thead>\n",
       "    <tr style=\"text-align: right;\">\n",
       "      <th></th>\n",
       "      <th>Code</th>\n",
       "      <th>Freq</th>\n",
       "    </tr>\n",
       "  </thead>\n",
       "  <tbody>\n",
       "    <tr>\n",
       "      <th>0</th>\n",
       "      <td>L</td>\n",
       "      <td>111426</td>\n",
       "    </tr>\n",
       "    <tr>\n",
       "      <th>1</th>\n",
       "      <td>A</td>\n",
       "      <td>95599</td>\n",
       "    </tr>\n",
       "    <tr>\n",
       "      <th>2</th>\n",
       "      <td>G</td>\n",
       "      <td>80220</td>\n",
       "    </tr>\n",
       "    <tr>\n",
       "      <th>3</th>\n",
       "      <td>V</td>\n",
       "      <td>80195</td>\n",
       "    </tr>\n",
       "    <tr>\n",
       "      <th>4</th>\n",
       "      <td>E</td>\n",
       "      <td>70177</td>\n",
       "    </tr>\n",
       "    <tr>\n",
       "      <th>5</th>\n",
       "      <td>I</td>\n",
       "      <td>69094</td>\n",
       "    </tr>\n",
       "    <tr>\n",
       "      <th>6</th>\n",
       "      <td>S</td>\n",
       "      <td>66894</td>\n",
       "    </tr>\n",
       "    <tr>\n",
       "      <th>7</th>\n",
       "      <td>R</td>\n",
       "      <td>61300</td>\n",
       "    </tr>\n",
       "    <tr>\n",
       "      <th>8</th>\n",
       "      <td>D</td>\n",
       "      <td>61157</td>\n",
       "    </tr>\n",
       "    <tr>\n",
       "      <th>9</th>\n",
       "      <td>T</td>\n",
       "      <td>59452</td>\n",
       "    </tr>\n",
       "    <tr>\n",
       "      <th>10</th>\n",
       "      <td>K</td>\n",
       "      <td>59091</td>\n",
       "    </tr>\n",
       "    <tr>\n",
       "      <th>11</th>\n",
       "      <td>P</td>\n",
       "      <td>48232</td>\n",
       "    </tr>\n",
       "    <tr>\n",
       "      <th>12</th>\n",
       "      <td>F</td>\n",
       "      <td>46709</td>\n",
       "    </tr>\n",
       "    <tr>\n",
       "      <th>13</th>\n",
       "      <td>N</td>\n",
       "      <td>42695</td>\n",
       "    </tr>\n",
       "    <tr>\n",
       "      <th>14</th>\n",
       "      <td>Q</td>\n",
       "      <td>38787</td>\n",
       "    </tr>\n",
       "    <tr>\n",
       "      <th>15</th>\n",
       "      <td>Y</td>\n",
       "      <td>36090</td>\n",
       "    </tr>\n",
       "    <tr>\n",
       "      <th>16</th>\n",
       "      <td>M</td>\n",
       "      <td>24533</td>\n",
       "    </tr>\n",
       "    <tr>\n",
       "      <th>17</th>\n",
       "      <td>H</td>\n",
       "      <td>24095</td>\n",
       "    </tr>\n",
       "    <tr>\n",
       "      <th>18</th>\n",
       "      <td>C</td>\n",
       "      <td>14970</td>\n",
       "    </tr>\n",
       "    <tr>\n",
       "      <th>19</th>\n",
       "      <td>W</td>\n",
       "      <td>14735</td>\n",
       "    </tr>\n",
       "    <tr>\n",
       "      <th>20</th>\n",
       "      <td>X</td>\n",
       "      <td>11</td>\n",
       "    </tr>\n",
       "    <tr>\n",
       "      <th>21</th>\n",
       "      <td>U</td>\n",
       "      <td>1</td>\n",
       "    </tr>\n",
       "  </tbody>\n",
       "</table>\n",
       "</div>"
      ],
      "text/plain": [
       "   Code    Freq\n",
       "0     L  111426\n",
       "1     A   95599\n",
       "2     G   80220\n",
       "3     V   80195\n",
       "4     E   70177\n",
       "5     I   69094\n",
       "6     S   66894\n",
       "7     R   61300\n",
       "8     D   61157\n",
       "9     T   59452\n",
       "10    K   59091\n",
       "11    P   48232\n",
       "12    F   46709\n",
       "13    N   42695\n",
       "14    Q   38787\n",
       "15    Y   36090\n",
       "16    M   24533\n",
       "17    H   24095\n",
       "18    C   14970\n",
       "19    W   14735\n",
       "20    X      11\n",
       "21    U       1"
      ]
     },
     "execution_count": 134,
     "metadata": {
      "tags": []
     },
     "output_type": "execute_result"
    }
   ],
   "source": [
    "# test code sequence\n",
    "test_code_freq = get_code_freq(test['sequence'], 'Test')\n",
    "test_code_freq"
   ]
  },
  {
   "cell_type": "code",
   "execution_count": 0,
   "metadata": {
    "colab": {},
    "colab_type": "code",
    "id": "Vsp8Bd37DQi4"
   },
   "outputs": [],
   "source": [
    "def plot_code_freq(df, data_name):\n",
    "  \n",
    "  plt.title(f'Code frequency: {data_name}')\n",
    "  sns.barplot(x='Code', y='Freq', data=df)"
   ]
  },
  {
   "cell_type": "code",
   "execution_count": 0,
   "metadata": {
    "colab": {
     "base_uri": "https://localhost:8080/",
     "height": 315
    },
    "colab_type": "code",
    "id": "hqpczOVOF8sA",
    "outputId": "5aa14525-e42b-4407-b659-06390f25404d"
   },
   "outputs": [
    {
     "data": {
      "image/png": "[encoded data removed]",
      "text/plain": [
       "<Figure size 432x288 with 3 Axes>"
      ]
     },
     "metadata": {
      "tags": []
     },
     "output_type": "display_data"
    }
   ],
   "source": [
    "plt.subplot(1, 3, 1)\n",
    "plot_code_freq(train_code_freq, 'Train')\n",
    "\n",
    "plt.subplot(1, 3, 2)\n",
    "plot_code_freq(val_code_freq, 'Val')\n",
    "\n",
    "plt.subplot(1, 3, 3)\n",
    "plot_code_freq(test_code_freq, 'Test')\n",
    "\n",
    "plt.subplots_adjust(right=3.0)\n",
    "plt.show()"
   ]
  },
  {
   "cell_type": "markdown",
   "metadata": {
    "colab_type": "text",
    "id": "J_SB86pZzCIq"
   },
   "source": [
    "__Observations__\n",
    "- Most frequent amino acid code is L followed by A, G, V.\n",
    "- As we can see, that the uncommon amino acids (i.e., X, U, B, O, Z) are present in very less quantity. Therefore we can consider only 20 common natural amino acids for sequence encoding."
   ]
  },
  {
   "cell_type": "markdown",
   "metadata": {
    "colab_type": "text",
    "id": "08mVHtLVfCmp"
   },
   "source": [
    "### Protein families with most sequences(No. of observations)"
   ]
  },
  {
   "cell_type": "code",
   "execution_count": 0,
   "metadata": {
    "colab": {
     "base_uri": "https://localhost:8080/",
     "height": 218
    },
    "colab_type": "code",
    "id": "VOx7dLl4uVwd",
    "outputId": "ef474dba-ce14-4600-f4f7-3619d4ec8ae4"
   },
   "outputs": [
    {
     "data": {
      "text/plain": [
       "family_id\n",
       "Methyltransf_25    951\n",
       "LRR_1              554\n",
       "Acetyltransf_7     505\n",
       "His_kinase         457\n",
       "Lum_binding        447\n",
       "Bac_transf         427\n",
       "Chromate_transp    379\n",
       "DNA_binding_1      368\n",
       "DnaJ_CXXCXGXG      357\n",
       "Lipase_GDSL_2      351\n",
       "dtype: int64"
      ]
     },
     "execution_count": 46,
     "metadata": {
      "tags": []
     },
     "output_type": "execute_result"
    }
   ],
   "source": [
    "train.groupby('family_id').size().sort_values(ascending=False).head(10)"
   ]
  },
  {
   "cell_type": "code",
   "execution_count": 0,
   "metadata": {
    "colab": {
     "base_uri": "https://localhost:8080/",
     "height": 218
    },
    "colab_type": "code",
    "id": "HzcqHtk4WpMQ",
    "outputId": "d98c6e41-6f4a-43c4-e766-f8385ac84d3b"
   },
   "outputs": [
    {
     "data": {
      "text/plain": [
       "family_accession\n",
       "PF13649.6     951\n",
       "PF00560.33    554\n",
       "PF13508.7     505\n",
       "PF06580.13    457\n",
       "PF00677.17    447\n",
       "PF02397.16    427\n",
       "PF02417.15    379\n",
       "PF01035.20    368\n",
       "PF00684.19    357\n",
       "PF13472.6     351\n",
       "dtype: int64"
      ]
     },
     "execution_count": 47,
     "metadata": {
      "tags": []
     },
     "output_type": "execute_result"
    }
   ],
   "source": [
    "# protein family_accession with most sequences\n",
    "\n",
    "train.groupby('family_accession').size().sort_values(ascending=False).head(10)"
   ]
  },
  {
   "cell_type": "markdown",
   "metadata": {
    "colab_type": "text",
    "id": "_aPR87m9hYV2"
   },
   "source": [
    "## 4. Deep Learning Models"
   ]
  },
  {
   "cell_type": "markdown",
   "metadata": {
    "colab_type": "text",
    "id": "LHh3AXwNp7Yv"
   },
   "source": [
    "### Text Preprocessing"
   ]
  },
  {
   "cell_type": "code",
   "execution_count": 44,
   "metadata": {
    "colab": {
     "base_uri": "https://localhost:8080/",
     "height": 70
    },
    "colab_type": "code",
    "id": "D16pJrHvqDdU",
    "outputId": "ce7299f9-d753-44bb-8405-3fe94e09df8d"
   },
   "outputs": [
    {
     "name": "stdout",
     "output_type": "stream",
     "text": [
      "{'A': 1, 'C': 2, 'D': 3, 'E': 4, 'F': 5, 'G': 6, 'H': 7, 'I': 8, 'K': 9, 'L': 10, 'M': 11, 'N': 12, 'P': 13, 'Q': 14, 'R': 15, 'S': 16, 'T': 17, 'V': 18, 'W': 19, 'Y': 20}\n",
      "Dict Length: 20\n"
     ]
    }
   ],
   "source": [
    "# https://dmnfarrell.github.io/bioinformatics/mhclearning\n",
    "# http://www.cryst.bbk.ac.uk/education/AminoAcid/the_twenty.html\n",
    "# 1 letter code for 20 natural amino acids\n",
    "\n",
    "codes = ['A', 'C', 'D', 'E', 'F', 'G', 'H', 'I', 'K', 'L',\n",
    "         'M', 'N', 'P', 'Q', 'R', 'S', 'T', 'V', 'W', 'Y']\n",
    "\n",
    "def create_dict(codes):\n",
    "  char_dict = {}\n",
    "  for index, val in enumerate(codes):\n",
    "    char_dict[val] = index+1\n",
    "\n",
    "  return char_dict\n",
    "\n",
    "char_dict = create_dict(codes)\n",
    "\n",
    "print(char_dict)\n",
    "print(\"Dict Length:\", len(char_dict))"
   ]
  },
  {
   "cell_type": "code",
   "execution_count": 0,
   "metadata": {
    "colab": {},
    "colab_type": "code",
    "id": "dN92LSEG62zX"
   },
   "outputs": [],
   "source": [
    "def integer_encoding(data):\n",
    "  \"\"\"\n",
    "  - Encodes code sequence to integer values.\n",
    "  - 20 common amino acids are taken into consideration\n",
    "    and rest 4 are categorized as 0.\n",
    "  \"\"\"\n",
    "  \n",
    "  encode_list = []\n",
    "  for row in data['sequence'].values:\n",
    "    row_encode = []\n",
    "    for code in row:\n",
    "      row_encode.append(char_dict.get(code, 0))\n",
    "    encode_list.append(np.array(row_encode))\n",
    "  \n",
    "  return encode_list"
   ]
  },
  {
   "cell_type": "code",
   "execution_count": 0,
   "metadata": {
    "colab": {},
    "colab_type": "code",
    "id": "2SW62zkr7Xzf"
   },
   "outputs": [],
   "source": [
    "train_encode = integer_encoding(train) \n",
    "val_encode = integer_encoding(val) \n",
    "test_encode = integer_encoding(test) "
   ]
  },
  {
   "cell_type": "code",
   "execution_count": 47,
   "metadata": {
    "colab": {
     "base_uri": "https://localhost:8080/",
     "height": 34
    },
    "colab_type": "code",
    "id": "0_vX2hJJ7noX",
    "outputId": "b01bbdc6-7136-4bf3-f9d4-73eb7522729e"
   },
   "outputs": [
    {
     "data": {
      "text/plain": [
       "((174649, 100), (7359, 100), (7370, 100))"
      ]
     },
     "execution_count": 47,
     "metadata": {
      "tags": []
     },
     "output_type": "execute_result"
    }
   ],
   "source": [
    "# padding sequences\n",
    "\n",
    "max_length = 100\n",
    "train_pad = pad_sequences(train_encode, maxlen=max_length, padding='post', truncating='post')\n",
    "val_pad = pad_sequences(val_encode, maxlen=max_length, padding='post', truncating='post')\n",
    "test_pad = pad_sequences(test_encode, maxlen=max_length, padding='post', truncating='post')\n",
    "\n",
    "train_pad.shape, val_pad.shape, test_pad.shape"
   ]
  },
  {
   "cell_type": "code",
   "execution_count": 48,
   "metadata": {
    "colab": {
     "base_uri": "https://localhost:8080/",
     "height": 34
    },
    "colab_type": "code",
    "id": "3MNzmuhn9zTJ",
    "outputId": "22e90be0-b2d0-4fdc-f69d-ed17e15dba6c"
   },
   "outputs": [
    {
     "data": {
      "text/plain": [
       "((174649, 100, 21), (7370, 100, 21), (7370, 100, 21))"
      ]
     },
     "execution_count": 48,
     "metadata": {
      "tags": []
     },
     "output_type": "execute_result"
    }
   ],
   "source": [
    "# One hot encoding of sequences\n",
    "\n",
    "train_ohe = to_categorical(train_pad)\n",
    "val_ohe = to_categorical(val_pad)\n",
    "test_ohe = to_categorical(test_pad)\n",
    "\n",
    "train_ohe.shape, test_ohe.shape, test_ohe.shape "
   ]
  },
  {
   "cell_type": "code",
   "execution_count": 21,
   "metadata": {
    "colab": {
     "base_uri": "https://localhost:8080/",
     "height": 34
    },
    "colab_type": "code",
    "id": "0TV3_o_DAXUC",
    "outputId": "6621beef-e560-498e-9d9e-a2d17b149ffd"
   },
   "outputs": [
    {
     "data": {
      "text/plain": [
       "455"
      ]
     },
     "execution_count": 21,
     "metadata": {
      "tags": []
     },
     "output_type": "execute_result"
    }
   ],
   "source": [
    "# del train_pad, val_pad, test_pad\n",
    "# del train_encode, val_encode, test_encode\n",
    "\n",
    "# gc.collect()"
   ]
  },
  {
   "cell_type": "code",
   "execution_count": 22,
   "metadata": {
    "colab": {
     "base_uri": "https://localhost:8080/",
     "height": 34
    },
    "colab_type": "code",
    "id": "cOdjjL1mLMko",
    "outputId": "6b5d0ef8-e707-4a92-8c65-2876764f4e5b"
   },
   "outputs": [
    {
     "data": {
      "text/plain": [
       "((174649,), (7359,), (7370,))"
      ]
     },
     "execution_count": 22,
     "metadata": {
      "tags": []
     },
     "output_type": "execute_result"
    }
   ],
   "source": [
    "# label/integer encoding output variable: (y)\n",
    "le = LabelEncoder()\n",
    "\n",
    "y_train_le = le.fit_transform(train['family_accession'])\n",
    "y_val_le = le.transform(val['family_accession'])\n",
    "y_test_le = le.transform(test['family_accession'])\n",
    "\n",
    "y_train_le.shape, y_val_le.shape, y_test_le.shape"
   ]
  },
  {
   "cell_type": "code",
   "execution_count": 23,
   "metadata": {
    "colab": {
     "base_uri": "https://localhost:8080/",
     "height": 67
    },
    "colab_type": "code",
    "id": "1r-g3zHcNe5o",
    "outputId": "474f72a3-ab3c-45da-c62d-b8b0e6d7e40c"
   },
   "outputs": [
    {
     "name": "stdout",
     "output_type": "stream",
     "text": [
      "Total classes:  2900\n"
     ]
    },
    {
     "data": {
      "text/plain": [
       "array(['PF00003.22', 'PF00006.25', 'PF00008.27', ..., 'PF18846.1',\n",
       "       'PF18859.1', 'PF18863.1'], dtype=object)"
      ]
     },
     "execution_count": 23,
     "metadata": {
      "tags": []
     },
     "output_type": "execute_result"
    }
   ],
   "source": [
    "print('Total classes: ', len(le.classes_))\n",
    "le.classes_"
   ]
  },
  {
   "cell_type": "code",
   "execution_count": 24,
   "metadata": {
    "colab": {
     "base_uri": "https://localhost:8080/",
     "height": 34
    },
    "colab_type": "code",
    "id": "er4ArjShGnV3",
    "outputId": "06dbea14-77e7-427b-a6a0-d736c56abc5a"
   },
   "outputs": [
    {
     "data": {
      "text/plain": [
       "((174649, 2900), (7359, 2900), (7370, 2900))"
      ]
     },
     "execution_count": 24,
     "metadata": {
      "tags": []
     },
     "output_type": "execute_result"
    }
   ],
   "source": [
    "# One hot encoding of outputs\n",
    "y_train = to_categorical(y_train_le)\n",
    "y_val = to_categorical(y_val_le)\n",
    "y_test = to_categorical(y_test_le)\n",
    "\n",
    "y_train.shape, y_val.shape, y_test.shape"
   ]
  },
  {
   "cell_type": "code",
   "execution_count": 0,
   "metadata": {
    "colab": {},
    "colab_type": "code",
    "id": "ADeDl5u7whSp"
   },
   "outputs": [],
   "source": [
    "# Utility function: plot model's accuracy and loss\n",
    "\n",
    "# https://realpython.com/python-keras-text-classification/\n",
    "plt.style.use('ggplot')\n",
    "\n",
    "def plot_history(history):\n",
    "  acc = history.history['acc']\n",
    "  val_acc = history.history['val_acc']\n",
    "  loss = history.history['loss']\n",
    "  val_loss = history.history['val_loss']\n",
    "  x = range(1, len(acc) + 1)\n",
    "\n",
    "  plt.figure(figsize=(12, 5))\n",
    "  plt.subplot(1, 2, 1)\n",
    "  plt.plot(x, acc, 'b', label='Training acc')\n",
    "  plt.plot(x, val_acc, 'r', label='Validation acc')\n",
    "  plt.title('Training and validation accuracy')\n",
    "  plt.legend()\n",
    "\n",
    "  plt.subplot(1, 2, 2)\n",
    "  plt.plot(x, loss, 'b', label='Training loss')\n",
    "  plt.plot(x, val_loss, 'r', label='Validation loss')\n",
    "  plt.title('Training and validation loss')\n",
    "  plt.legend()"
   ]
  },
  {
   "cell_type": "markdown",
   "metadata": {
    "colab_type": "text",
    "id": "0GQ3x4L6hKOY"
   },
   "source": [
    "### Model 1: Bidirectional LSTM"
   ]
  },
  {
   "cell_type": "code",
   "execution_count": 60,
   "metadata": {
    "colab": {
     "base_uri": "https://localhost:8080/",
     "height": 353
    },
    "colab_type": "code",
    "id": "ERfM44Zk0dcz",
    "outputId": "4fd56def-1580-4bf0-998b-13f6da43d453"
   },
   "outputs": [
    {
     "name": "stdout",
     "output_type": "stream",
     "text": [
      "Model: \"model_6\"\n",
      "_________________________________________________________________\n",
      "Layer (type)                 Output Shape              Param #   \n",
      "=================================================================\n",
      "input_16 (InputLayer)        (None, 100)               0         \n",
      "_________________________________________________________________\n",
      "embedding_13 (Embedding)     (None, 100, 256)          5376      \n",
      "_________________________________________________________________\n",
      "bidirectional_17 (Bidirectio (None, 100, 256)          395264    \n",
      "_________________________________________________________________\n",
      "global_max_pooling1d_7 (Glob (None, 256)               0         \n",
      "_________________________________________________________________\n",
      "dropout_8 (Dropout)          (None, 256)               0         \n",
      "_________________________________________________________________\n",
      "dense_6 (Dense)              (None, 2900)              745300    \n",
      "=================================================================\n",
      "Total params: 1,145,940\n",
      "Trainable params: 1,145,940\n",
      "Non-trainable params: 0\n",
      "_________________________________________________________________\n"
     ]
    }
   ],
   "source": [
    "x_input = Input(shape=(100,))\n",
    "emb = Embedding(21, 256, input_length=max_length)(x_input)\n",
    "bi_rnn = Bidirectional(CuDNNLSTM(128, return_sequences=True))(emb)\n",
    "x = GlobalMaxPooling1D()(bi_rnn)\n",
    "x = Dropout(0.5)(x)\n",
    "\n",
    "# softmax classifier\n",
    "x_output = Dense(2900, activation='softmax', kernel_regularizer=regularizers.l2(0.0001))(x)\n",
    "\n",
    "model1 = Model(inputs=x_input, outputs=x_output)\n",
    "model1.compile(optimizer='adam', loss='categorical_crossentropy', metrics=['accuracy'])\n",
    "\n",
    "model1.summary()"
   ]
  },
  {
   "cell_type": "code",
   "execution_count": 61,
   "metadata": {
    "colab": {
     "base_uri": "https://localhost:8080/",
     "height": 1000
    },
    "colab_type": "code",
    "id": "rojzazHe0hlN",
    "outputId": "5b6c6dd8-208f-4f0d-b81f-62a5652e6edd"
   },
   "outputs": [
    {
     "name": "stdout",
     "output_type": "stream",
     "text": [
      "Train on 174649 samples, validate on 7359 samples\n",
      "Epoch 1/100\n",
      "174649/174649 [==============================] - 59s 339us/step - loss: 6.7877 - acc: 0.0318 - val_loss: 5.9199 - val_acc: 0.1082\n",
      "Epoch 2/100\n",
      "174649/174649 [==============================] - 58s 329us/step - loss: 4.8764 - acc: 0.2124 - val_loss: 4.3385 - val_acc: 0.3127\n",
      "Epoch 3/100\n",
      "174649/174649 [==============================] - 58s 331us/step - loss: 3.7758 - acc: 0.3838 - val_loss: 3.5181 - val_acc: 0.4612\n",
      "Epoch 4/100\n",
      "174649/174649 [==============================] - 58s 330us/step - loss: 3.2134 - acc: 0.4917 - val_loss: 3.0664 - val_acc: 0.5535\n",
      "Epoch 5/100\n",
      "174649/174649 [==============================] - 58s 330us/step - loss: 2.8832 - acc: 0.5633 - val_loss: 2.7670 - val_acc: 0.6190\n",
      "Epoch 6/100\n",
      "174649/174649 [==============================] - 58s 331us/step - loss: 2.6672 - acc: 0.6128 - val_loss: 2.5885 - val_acc: 0.6548\n",
      "Epoch 7/100\n",
      "174649/174649 [==============================] - 58s 330us/step - loss: 2.5090 - acc: 0.6495 - val_loss: 2.4423 - val_acc: 0.6923\n",
      "Epoch 8/100\n",
      "174649/174649 [==============================] - 58s 330us/step - loss: 2.4008 - acc: 0.6758 - val_loss: 2.3319 - val_acc: 0.7206\n",
      "Epoch 9/100\n",
      "174649/174649 [==============================] - 58s 331us/step - loss: 2.2939 - acc: 0.7008 - val_loss: 2.2384 - val_acc: 0.7411\n",
      "Epoch 10/100\n",
      "174649/174649 [==============================] - 58s 331us/step - loss: 2.2222 - acc: 0.7181 - val_loss: 2.1675 - val_acc: 0.7539\n",
      "Epoch 11/100\n",
      "174649/174649 [==============================] - 58s 330us/step - loss: 2.1540 - acc: 0.7329 - val_loss: 2.1082 - val_acc: 0.7717\n",
      "Epoch 12/100\n",
      "174649/174649 [==============================] - 57s 328us/step - loss: 2.1074 - acc: 0.7460 - val_loss: 2.0725 - val_acc: 0.7792\n",
      "Epoch 13/100\n",
      "174649/174649 [==============================] - 58s 330us/step - loss: 2.0591 - acc: 0.7579 - val_loss: 2.0040 - val_acc: 0.7941\n",
      "Epoch 14/100\n",
      "174649/174649 [==============================] - 58s 331us/step - loss: 2.0190 - acc: 0.7666 - val_loss: 1.9717 - val_acc: 0.8019\n",
      "Epoch 15/100\n",
      "174649/174649 [==============================] - 58s 330us/step - loss: 1.9797 - acc: 0.7759 - val_loss: 1.9343 - val_acc: 0.8058\n",
      "Epoch 16/100\n",
      "174649/174649 [==============================] - 58s 332us/step - loss: 1.9444 - acc: 0.7849 - val_loss: 1.9100 - val_acc: 0.8166\n",
      "Epoch 17/100\n",
      "174649/174649 [==============================] - 58s 329us/step - loss: 1.9206 - acc: 0.7895 - val_loss: 1.8839 - val_acc: 0.8224\n",
      "Epoch 18/100\n",
      "174649/174649 [==============================] - 57s 329us/step - loss: 1.8948 - acc: 0.7955 - val_loss: 1.8609 - val_acc: 0.8227\n",
      "Epoch 19/100\n",
      "174649/174649 [==============================] - 58s 330us/step - loss: 1.8728 - acc: 0.8007 - val_loss: 1.8416 - val_acc: 0.8258\n",
      "Epoch 20/100\n",
      "174649/174649 [==============================] - 58s 330us/step - loss: 1.8515 - acc: 0.8046 - val_loss: 1.8124 - val_acc: 0.8349\n",
      "Epoch 21/100\n",
      "174649/174649 [==============================] - 58s 329us/step - loss: 1.8239 - acc: 0.8122 - val_loss: 1.7941 - val_acc: 0.8383\n",
      "Epoch 22/100\n",
      "174649/174649 [==============================] - 57s 329us/step - loss: 1.8174 - acc: 0.8136 - val_loss: 1.7891 - val_acc: 0.8410\n",
      "Epoch 23/100\n",
      "174649/174649 [==============================] - 57s 329us/step - loss: 1.7934 - acc: 0.8192 - val_loss: 1.7681 - val_acc: 0.8436\n",
      "Epoch 24/100\n",
      "174649/174649 [==============================] - 57s 329us/step - loss: 1.7805 - acc: 0.8219 - val_loss: 1.7545 - val_acc: 0.8478\n",
      "Epoch 25/100\n",
      "174649/174649 [==============================] - 57s 329us/step - loss: 1.7581 - acc: 0.8268 - val_loss: 1.7410 - val_acc: 0.8505\n",
      "Epoch 26/100\n",
      "174649/174649 [==============================] - 57s 327us/step - loss: 1.7422 - acc: 0.8312 - val_loss: 1.7316 - val_acc: 0.8531\n",
      "Epoch 27/100\n",
      "174649/174649 [==============================] - 57s 329us/step - loss: 1.7382 - acc: 0.8312 - val_loss: 1.7151 - val_acc: 0.8542\n",
      "Epoch 28/100\n",
      "174649/174649 [==============================] - 57s 329us/step - loss: 1.7243 - acc: 0.8354 - val_loss: 1.7005 - val_acc: 0.8596\n",
      "Epoch 29/100\n",
      "174649/174649 [==============================] - 58s 330us/step - loss: 1.7117 - acc: 0.8373 - val_loss: 1.6942 - val_acc: 0.8580\n",
      "Epoch 30/100\n",
      "174649/174649 [==============================] - 57s 328us/step - loss: 1.7006 - acc: 0.8397 - val_loss: 1.6822 - val_acc: 0.8603\n",
      "Epoch 31/100\n",
      "174649/174649 [==============================] - 57s 328us/step - loss: 1.7024 - acc: 0.8401 - val_loss: 1.6863 - val_acc: 0.8580\n",
      "Epoch 32/100\n",
      "174649/174649 [==============================] - 57s 329us/step - loss: 1.6949 - acc: 0.8409 - val_loss: 1.6686 - val_acc: 0.8621\n",
      "Epoch 33/100\n",
      "174649/174649 [==============================] - 57s 329us/step - loss: 1.6734 - acc: 0.8460 - val_loss: 1.6670 - val_acc: 0.8659\n",
      "Epoch 34/100\n",
      "174649/174649 [==============================] - 57s 329us/step - loss: 1.6714 - acc: 0.8459 - val_loss: 1.6710 - val_acc: 0.8652\n",
      "Epoch 35/100\n",
      "174649/174649 [==============================] - 57s 329us/step - loss: 1.6583 - acc: 0.8487 - val_loss: 1.6595 - val_acc: 0.8663\n",
      "Epoch 36/100\n",
      "174649/174649 [==============================] - 57s 329us/step - loss: 1.6557 - acc: 0.8486 - val_loss: 1.6430 - val_acc: 0.8679\n",
      "Epoch 37/100\n",
      "174649/174649 [==============================] - 57s 329us/step - loss: 1.6502 - acc: 0.8513 - val_loss: 1.7072 - val_acc: 0.8599\n",
      "Epoch 38/100\n",
      "174649/174649 [==============================] - 57s 329us/step - loss: 1.6590 - acc: 0.8497 - val_loss: 1.6889 - val_acc: 0.8647\n",
      "Epoch 39/100\n",
      "174649/174649 [==============================] - 58s 331us/step - loss: 1.6307 - acc: 0.8553 - val_loss: 1.6307 - val_acc: 0.8725\n",
      "Epoch 40/100\n",
      "174649/174649 [==============================] - 57s 329us/step - loss: 1.6211 - acc: 0.8572 - val_loss: 1.6141 - val_acc: 0.8712\n",
      "Epoch 41/100\n",
      "174649/174649 [==============================] - 57s 329us/step - loss: 1.6116 - acc: 0.8592 - val_loss: 1.6012 - val_acc: 0.8743\n",
      "Epoch 42/100\n",
      "174649/174649 [==============================] - 58s 330us/step - loss: 1.6113 - acc: 0.8590 - val_loss: 1.6068 - val_acc: 0.8723\n",
      "Epoch 43/100\n",
      "174649/174649 [==============================] - 58s 329us/step - loss: 1.6188 - acc: 0.8590 - val_loss: 1.6077 - val_acc: 0.8778\n",
      "Epoch 44/100\n",
      "174649/174649 [==============================] - 57s 328us/step - loss: 1.6015 - acc: 0.8608 - val_loss: 1.5929 - val_acc: 0.8788\n",
      "Epoch 45/100\n",
      "174649/174649 [==============================] - 57s 329us/step - loss: 1.6008 - acc: 0.8600 - val_loss: 1.5960 - val_acc: 0.8787\n",
      "Epoch 46/100\n",
      "174649/174649 [==============================] - 58s 331us/step - loss: 1.5856 - acc: 0.8650 - val_loss: 1.5923 - val_acc: 0.8801\n",
      "Epoch 47/100\n",
      "174649/174649 [==============================] - 58s 329us/step - loss: 1.5740 - acc: 0.8664 - val_loss: 1.5943 - val_acc: 0.8810\n",
      "Epoch 48/100\n",
      "174649/174649 [==============================] - 57s 329us/step - loss: 1.5845 - acc: 0.8646 - val_loss: 1.5797 - val_acc: 0.8819\n",
      "Epoch 49/100\n",
      "174649/174649 [==============================] - 58s 330us/step - loss: 1.5646 - acc: 0.8670 - val_loss: 1.5647 - val_acc: 0.8819\n",
      "Epoch 50/100\n",
      "174649/174649 [==============================] - 57s 328us/step - loss: 1.5663 - acc: 0.8672 - val_loss: 1.5711 - val_acc: 0.8819\n",
      "Epoch 51/100\n",
      "174649/174649 [==============================] - 57s 329us/step - loss: 1.5585 - acc: 0.8700 - val_loss: 1.5625 - val_acc: 0.8829\n",
      "Epoch 52/100\n",
      "174649/174649 [==============================] - 58s 329us/step - loss: 1.5469 - acc: 0.8736 - val_loss: 1.5578 - val_acc: 0.8864\n",
      "Epoch 53/100\n",
      "174649/174649 [==============================] - 57s 329us/step - loss: 1.5478 - acc: 0.8727 - val_loss: 1.5544 - val_acc: 0.8842\n",
      "Epoch 54/100\n",
      "174649/174649 [==============================] - 57s 327us/step - loss: 1.5602 - acc: 0.8692 - val_loss: 1.5567 - val_acc: 0.8849\n",
      "Epoch 55/100\n",
      "174649/174649 [==============================] - 58s 331us/step - loss: 1.5375 - acc: 0.8732 - val_loss: 1.5479 - val_acc: 0.8850\n",
      "Epoch 56/100\n",
      "174649/174649 [==============================] - 57s 329us/step - loss: 1.5336 - acc: 0.8745 - val_loss: 1.5419 - val_acc: 0.8868\n",
      "Epoch 57/100\n",
      "174649/174649 [==============================] - 58s 329us/step - loss: 1.5316 - acc: 0.8754 - val_loss: 1.5450 - val_acc: 0.8857\n",
      "Epoch 58/100\n",
      "174649/174649 [==============================] - 58s 330us/step - loss: 1.5341 - acc: 0.8735 - val_loss: 1.5332 - val_acc: 0.8918\n",
      "Epoch 59/100\n",
      "174649/174649 [==============================] - 58s 329us/step - loss: 1.5242 - acc: 0.8760 - val_loss: 1.5301 - val_acc: 0.8933\n",
      "Epoch 60/100\n",
      "174649/174649 [==============================] - 57s 329us/step - loss: 1.5236 - acc: 0.8768 - val_loss: 1.5347 - val_acc: 0.8893\n",
      "Epoch 61/100\n",
      "174649/174649 [==============================] - 57s 329us/step - loss: 1.5175 - acc: 0.8776 - val_loss: 1.5304 - val_acc: 0.8917\n",
      "Epoch 62/100\n",
      "174649/174649 [==============================] - 57s 329us/step - loss: 1.5296 - acc: 0.8744 - val_loss: 1.5345 - val_acc: 0.8905\n",
      "Epoch 63/100\n",
      "174649/174649 [==============================] - 58s 330us/step - loss: 1.5069 - acc: 0.8800 - val_loss: 1.5291 - val_acc: 0.8882\n",
      "Epoch 64/100\n",
      "174649/174649 [==============================] - 57s 329us/step - loss: 1.5255 - acc: 0.8754 - val_loss: 1.5268 - val_acc: 0.8883\n",
      "Epoch 65/100\n",
      "174649/174649 [==============================] - 57s 329us/step - loss: 1.5038 - acc: 0.8798 - val_loss: 1.5095 - val_acc: 0.8913\n",
      "Epoch 66/100\n",
      "174649/174649 [==============================] - 58s 330us/step - loss: 1.5011 - acc: 0.8809 - val_loss: 1.5167 - val_acc: 0.8924\n",
      "Epoch 67/100\n",
      "174649/174649 [==============================] - 57s 329us/step - loss: 1.5241 - acc: 0.8759 - val_loss: 1.5257 - val_acc: 0.8921\n",
      "Epoch 68/100\n",
      "174649/174649 [==============================] - 58s 330us/step - loss: 1.5171 - acc: 0.8784 - val_loss: 1.5250 - val_acc: 0.8926\n",
      "Epoch 69/100\n",
      "174649/174649 [==============================] - 58s 330us/step - loss: 1.5043 - acc: 0.8801 - val_loss: 1.5088 - val_acc: 0.8962\n",
      "Epoch 70/100\n",
      "174649/174649 [==============================] - 58s 330us/step - loss: 1.4925 - acc: 0.8827 - val_loss: 1.5109 - val_acc: 0.8926\n",
      "Epoch 71/100\n",
      "174649/174649 [==============================] - 58s 330us/step - loss: 1.4942 - acc: 0.8826 - val_loss: 1.5234 - val_acc: 0.8905\n",
      "Epoch 72/100\n",
      "174649/174649 [==============================] - 57s 328us/step - loss: 1.4958 - acc: 0.8817 - val_loss: 1.5179 - val_acc: 0.8935\n",
      "Epoch 73/100\n",
      "174649/174649 [==============================] - 57s 328us/step - loss: 1.4847 - acc: 0.8845 - val_loss: 1.5033 - val_acc: 0.8946\n",
      "Epoch 74/100\n",
      "174649/174649 [==============================] - 58s 330us/step - loss: 1.4877 - acc: 0.8834 - val_loss: 1.5105 - val_acc: 0.8944\n",
      "Epoch 75/100\n",
      "174649/174649 [==============================] - 57s 329us/step - loss: 1.4715 - acc: 0.8861 - val_loss: 1.5000 - val_acc: 0.8969\n",
      "Epoch 76/100\n",
      "174649/174649 [==============================] - 58s 329us/step - loss: 1.4742 - acc: 0.8866 - val_loss: 1.4981 - val_acc: 0.8960\n",
      "Epoch 77/100\n",
      "174649/174649 [==============================] - 58s 330us/step - loss: 1.4709 - acc: 0.8869 - val_loss: 1.4910 - val_acc: 0.8982\n",
      "Epoch 78/100\n",
      "174649/174649 [==============================] - 58s 331us/step - loss: 1.4707 - acc: 0.8868 - val_loss: 1.4888 - val_acc: 0.8981\n",
      "Epoch 79/100\n",
      "174649/174649 [==============================] - 57s 328us/step - loss: 1.4756 - acc: 0.8863 - val_loss: 1.5235 - val_acc: 0.8937\n",
      "Epoch 80/100\n",
      "174649/174649 [==============================] - 57s 328us/step - loss: 1.4643 - acc: 0.8881 - val_loss: 1.4869 - val_acc: 0.8970\n",
      "Epoch 81/100\n",
      "174649/174649 [==============================] - 57s 328us/step - loss: 1.4976 - acc: 0.8806 - val_loss: 1.4881 - val_acc: 0.8936\n",
      "Epoch 82/100\n",
      "174649/174649 [==============================] - 57s 329us/step - loss: 1.4621 - acc: 0.8893 - val_loss: 1.4884 - val_acc: 0.8970\n",
      "Epoch 83/100\n",
      "174649/174649 [==============================] - 57s 328us/step - loss: 1.4613 - acc: 0.8882 - val_loss: 1.4861 - val_acc: 0.8984\n",
      "Epoch 84/100\n",
      "174649/174649 [==============================] - 58s 329us/step - loss: 1.4534 - acc: 0.8901 - val_loss: 1.4718 - val_acc: 0.9001\n",
      "Epoch 85/100\n",
      "174649/174649 [==============================] - 58s 330us/step - loss: 1.4586 - acc: 0.8891 - val_loss: 1.4774 - val_acc: 0.8981\n",
      "Epoch 86/100\n",
      "174649/174649 [==============================] - 58s 329us/step - loss: 1.4466 - acc: 0.8911 - val_loss: 1.4833 - val_acc: 0.8993\n",
      "Epoch 87/100\n",
      "174649/174649 [==============================] - 57s 329us/step - loss: 1.4506 - acc: 0.8904 - val_loss: 1.4766 - val_acc: 0.8994\n",
      "Epoch 88/100\n",
      "174649/174649 [==============================] - 57s 328us/step - loss: 1.5680 - acc: 0.8675 - val_loss: 1.4832 - val_acc: 0.8977\n",
      "Epoch 89/100\n",
      "174649/174649 [==============================] - 57s 328us/step - loss: 1.4552 - acc: 0.8901 - val_loss: 1.4730 - val_acc: 0.9005\n",
      "Epoch 90/100\n",
      "174649/174649 [==============================] - 57s 329us/step - loss: 1.4456 - acc: 0.8913 - val_loss: 1.4713 - val_acc: 0.8997\n",
      "Epoch 91/100\n",
      "174649/174649 [==============================] - 57s 329us/step - loss: 1.4385 - acc: 0.8935 - val_loss: 1.4613 - val_acc: 0.9024\n",
      "Epoch 92/100\n",
      "174649/174649 [==============================] - 57s 329us/step - loss: 1.4452 - acc: 0.8914 - val_loss: 1.4707 - val_acc: 0.9001\n",
      "Epoch 93/100\n",
      "174649/174649 [==============================] - 57s 329us/step - loss: 1.4504 - acc: 0.8899 - val_loss: 1.4705 - val_acc: 0.9004\n",
      "Epoch 94/100\n",
      "174649/174649 [==============================] - 57s 329us/step - loss: 1.4390 - acc: 0.8926 - val_loss: 1.4634 - val_acc: 0.9019\n",
      "Epoch 95/100\n",
      "174649/174649 [==============================] - 57s 329us/step - loss: 1.4336 - acc: 0.8934 - val_loss: 1.4577 - val_acc: 0.9020\n",
      "Epoch 96/100\n",
      "174649/174649 [==============================] - 57s 328us/step - loss: 1.4460 - acc: 0.8910 - val_loss: 1.4562 - val_acc: 0.9019\n",
      "Epoch 97/100\n",
      "174649/174649 [==============================] - 57s 329us/step - loss: 1.4303 - acc: 0.8939 - val_loss: 1.4600 - val_acc: 0.9009\n",
      "Epoch 98/100\n",
      "174649/174649 [==============================] - 58s 330us/step - loss: 1.4282 - acc: 0.8952 - val_loss: 1.4550 - val_acc: 0.9041\n",
      "Epoch 99/100\n",
      "174649/174649 [==============================] - 57s 329us/step - loss: 1.4268 - acc: 0.8945 - val_loss: 1.4556 - val_acc: 0.9015\n",
      "Epoch 100/100\n",
      "174649/174649 [==============================] - 57s 329us/step - loss: 1.4541 - acc: 0.8888 - val_loss: 1.4753 - val_acc: 0.8971\n"
     ]
    }
   ],
   "source": [
    "history1 = model1.fit(\n",
    "    train_pad, y_train,\n",
    "    epochs=100, batch_size=256,\n",
    "    validation_data=(val_pad, y_val))"
   ]
  },
  {
   "cell_type": "code",
   "execution_count": 0,
   "metadata": {
    "colab": {},
    "colab_type": "code",
    "id": "AzBvM1RHqxgg"
   },
   "outputs": [],
   "source": [
    "# saving model weights.\n",
    "model1.save_weights('drive/My Drive/Case_Study/pfam/model1.h5')"
   ]
  },
  {
   "cell_type": "code",
   "execution_count": 62,
   "metadata": {
    "colab": {
     "base_uri": "https://localhost:8080/",
     "height": 357
    },
    "colab_type": "code",
    "id": "FvmHIj9gG9VP",
    "outputId": "a55b6c65-e641-48c9-a1c8-86e141283271"
   },
   "outputs": [
    {
     "data": {
      "image/png": "[encoded data removed]",
      "text/plain": [
       "<Figure size 864x360 with 2 Axes>"
      ]
     },
     "metadata": {
      "tags": []
     },
     "output_type": "display_data"
    }
   ],
   "source": [
    "plot_history(history1)"
   ]
  },
  {
   "cell_type": "code",
   "execution_count": 63,
   "metadata": {
    "colab": {
     "base_uri": "https://localhost:8080/",
     "height": 67
    },
    "colab_type": "code",
    "id": "H-E3JuWlHD6o",
    "outputId": "f72c1a94-f107-483b-e90a-1f66b61aafba"
   },
   "outputs": [
    {
     "name": "stdout",
     "output_type": "stream",
     "text": [
      "7370/7370 [==============================] - 1s 138us/step\n",
      "Test loss:  1.4782586405688096\n",
      "Test accuracy:  0.8948439626551387\n"
     ]
    }
   ],
   "source": [
    "test_score = model1.evaluate(test_pad, y_test, batch_size=256, verbose=1)\n",
    "print('Test loss: ', test_score[0])\n",
    "print('Test accuracy: ', test_score[1])"
   ]
  },
  {
   "cell_type": "markdown",
   "metadata": {
    "colab_type": "text",
    "id": "8Lip5vCthFn_"
   },
   "source": [
    "### Model 2: ProtCNN (https://www.biorxiv.org/content/10.1101/626507v4.full)"
   ]
  },
  {
   "cell_type": "markdown",
   "metadata": {
    "colab_type": "text",
    "id": "wxdIXVy-fDyz"
   },
   "source": [
    "<br/>\n",
    "<center><img src='https://www.biorxiv.org/content/biorxiv/early/2019/07/15/626507/F6.large.jpg' height='470' width='700'></center>\n",
    "\n",
    "<br/>"
   ]
  },
  {
   "cell_type": "markdown",
   "metadata": {
    "colab_type": "text",
    "id": "BgX7fQhjkkcD"
   },
   "source": [
    "- One hot encoded unaligned sequence of amino acids is passed as the input to the network with zero padding.\n",
    "\n",
    "- This network uses residual blocks inspired from [ResNet](https://arxiv.org/abs/1512.03385) architecture which also includes dilated convolutions offering larger receptive field without increasing number of model parameters."
   ]
  },
  {
   "cell_type": "code",
   "execution_count": 0,
   "metadata": {
    "colab": {},
    "colab_type": "code",
    "id": "otNM0HBpZ_CL"
   },
   "outputs": [],
   "source": [
    "def residual_block(data, filters, d_rate):\n",
    "  \"\"\"\n",
    "  _data: input\n",
    "  _filters: convolution filters\n",
    "  _d_rate: dilation rate\n",
    "  \"\"\"\n",
    "\n",
    "  shortcut = data\n",
    "\n",
    "  bn1 = BatchNormalization(axis=2)(data)\n",
    "  act1 = Activation('relu')(bn1)\n",
    "  conv1 = Conv1D(filters, 1, dilation_rate=d_rate, padding='same', kernel_regularizer=regularizers.l2(0.0001))(act1)\n",
    "\n",
    "  #bottleneck convolution\n",
    "  bn2 = BatchNormalization(axis=2)(conv1)\n",
    "  act2 = Activation('relu')(bn2)\n",
    "  conv2 = Conv1D(filters, 3, padding='same', kernel_regularizer=regularizers.l2(0.0001))(act2)\n",
    "\n",
    "  #skip connection\n",
    "  x = Add()([conv2, shortcut])\n",
    "\n",
    "  return x"
   ]
  },
  {
   "cell_type": "code",
   "execution_count": 0,
   "metadata": {
    "colab": {
     "base_uri": "https://localhost:8080/",
     "height": 857
    },
    "colab_type": "code",
    "id": "FSM2AEcTb0M9",
    "outputId": "669c3765-5df9-40be-f2a9-a05f9a894fdc"
   },
   "outputs": [
    {
     "name": "stdout",
     "output_type": "stream",
     "text": [
      "Model: \"model_4\"\n",
      "__________________________________________________________________________________________________\n",
      "Layer (type)                    Output Shape         Param #     Connected to                     \n",
      "==================================================================================================\n",
      "input_34 (InputLayer)           (None, 100, 21)      0                                            \n",
      "__________________________________________________________________________________________________\n",
      "conv1d_105 (Conv1D)             (None, 100, 128)     2816        input_34[0][0]                   \n",
      "__________________________________________________________________________________________________\n",
      "batch_normalization_74 (BatchNo (None, 100, 128)     512         conv1d_105[0][0]                 \n",
      "__________________________________________________________________________________________________\n",
      "activation_76 (Activation)      (None, 100, 128)     0           batch_normalization_74[0][0]     \n",
      "__________________________________________________________________________________________________\n",
      "conv1d_106 (Conv1D)             (None, 100, 128)     16512       activation_76[0][0]              \n",
      "__________________________________________________________________________________________________\n",
      "batch_normalization_75 (BatchNo (None, 100, 128)     512         conv1d_106[0][0]                 \n",
      "__________________________________________________________________________________________________\n",
      "activation_77 (Activation)      (None, 100, 128)     0           batch_normalization_75[0][0]     \n",
      "__________________________________________________________________________________________________\n",
      "conv1d_107 (Conv1D)             (None, 100, 128)     49280       activation_77[0][0]              \n",
      "__________________________________________________________________________________________________\n",
      "add_36 (Add)                    (None, 100, 128)     0           conv1d_107[0][0]                 \n",
      "                                                                 conv1d_105[0][0]                 \n",
      "__________________________________________________________________________________________________\n",
      "batch_normalization_76 (BatchNo (None, 100, 128)     512         add_36[0][0]                     \n",
      "__________________________________________________________________________________________________\n",
      "activation_78 (Activation)      (None, 100, 128)     0           batch_normalization_76[0][0]     \n",
      "__________________________________________________________________________________________________\n",
      "conv1d_108 (Conv1D)             (None, 100, 128)     16512       activation_78[0][0]              \n",
      "__________________________________________________________________________________________________\n",
      "batch_normalization_77 (BatchNo (None, 100, 128)     512         conv1d_108[0][0]                 \n",
      "__________________________________________________________________________________________________\n",
      "activation_79 (Activation)      (None, 100, 128)     0           batch_normalization_77[0][0]     \n",
      "__________________________________________________________________________________________________\n",
      "conv1d_109 (Conv1D)             (None, 100, 128)     49280       activation_79[0][0]              \n",
      "__________________________________________________________________________________________________\n",
      "add_37 (Add)                    (None, 100, 128)     0           conv1d_109[0][0]                 \n",
      "                                                                 add_36[0][0]                     \n",
      "__________________________________________________________________________________________________\n",
      "max_pooling1d_6 (MaxPooling1D)  (None, 33, 128)      0           add_37[0][0]                     \n",
      "__________________________________________________________________________________________________\n",
      "dropout_2 (Dropout)             (None, 33, 128)      0           max_pooling1d_6[0][0]            \n",
      "__________________________________________________________________________________________________\n",
      "flatten_5 (Flatten)             (None, 4224)         0           dropout_2[0][0]                  \n",
      "__________________________________________________________________________________________________\n",
      "dense_8 (Dense)                 (None, 2900)         12252500    flatten_5[0][0]                  \n",
      "==================================================================================================\n",
      "Total params: 12,388,948\n",
      "Trainable params: 12,387,924\n",
      "Non-trainable params: 1,024\n",
      "__________________________________________________________________________________________________\n"
     ]
    }
   ],
   "source": [
    "# model\n",
    "\n",
    "x_input = Input(shape=(100, 21))\n",
    "\n",
    "#initial conv\n",
    "conv = Conv1D(128, 1, padding='same')(x_input) \n",
    "\n",
    "# per-residue representation\n",
    "res1 = residual_block(conv, 128, 2)\n",
    "res2 = residual_block(res1, 128, 3)\n",
    "\n",
    "x = MaxPooling1D(3)(res2)\n",
    "x = Dropout(0.5)(x)\n",
    "\n",
    "# softmax classifier\n",
    "x = Flatten()(x)\n",
    "x_output = Dense(2900, activation='softmax', kernel_regularizer=regularizers.l2(0.0001))(x)\n",
    "\n",
    "model = Model(inputs=x_input, outputs=x_output)\n",
    "model.compile(optimizer='adam', loss='categorical_crossentropy', metrics=['accuracy'])\n",
    "\n",
    "model.summary()"
   ]
  },
  {
   "cell_type": "code",
   "execution_count": 0,
   "metadata": {
    "colab": {
     "base_uri": "https://localhost:8080/",
     "height": 1000
    },
    "colab_type": "code",
    "id": "KmuACQR1gDLP",
    "outputId": "619b916a-f239-47df-e4e0-a813371bb62d"
   },
   "outputs": [
    {
     "name": "stdout",
     "output_type": "stream",
     "text": [
      "Train on 174649 samples, validate on 7359 samples\n",
      "Epoch 1/100\n",
      "174649/174649 [==============================] - 63s 358us/step - loss: 1.9146 - acc: 0.7968 - val_loss: 0.9882 - val_acc: 0.9398\n",
      "Epoch 2/100\n",
      "174649/174649 [==============================] - 58s 331us/step - loss: 0.7033 - acc: 0.9767 - val_loss: 0.9583 - val_acc: 0.9356\n",
      "Epoch 3/100\n",
      "174649/174649 [==============================] - 58s 330us/step - loss: 0.6890 - acc: 0.9728 - val_loss: 1.1462 - val_acc: 0.9225\n",
      "Epoch 4/100\n",
      "174649/174649 [==============================] - 58s 330us/step - loss: 0.8760 - acc: 0.9652 - val_loss: 1.2244 - val_acc: 0.9344\n",
      "Epoch 5/100\n",
      "174649/174649 [==============================] - 58s 331us/step - loss: 0.9215 - acc: 0.9734 - val_loss: 1.2215 - val_acc: 0.9395\n",
      "Epoch 6/100\n",
      "174649/174649 [==============================] - 58s 331us/step - loss: 0.8639 - acc: 0.9789 - val_loss: 1.1608 - val_acc: 0.9376\n",
      "Epoch 7/100\n",
      "174649/174649 [==============================] - 58s 330us/step - loss: 0.8273 - acc: 0.9790 - val_loss: 1.1562 - val_acc: 0.9369\n",
      "Epoch 8/100\n",
      "174649/174649 [==============================] - 58s 330us/step - loss: 0.8470 - acc: 0.9766 - val_loss: 1.1651 - val_acc: 0.9368\n",
      "Epoch 9/100\n",
      "174649/174649 [==============================] - 58s 329us/step - loss: 0.8444 - acc: 0.9782 - val_loss: 1.1244 - val_acc: 0.9391\n",
      "Epoch 10/100\n",
      "174649/174649 [==============================] - 58s 330us/step - loss: 0.8120 - acc: 0.9794 - val_loss: 1.0868 - val_acc: 0.9448\n",
      "Epoch 11/100\n",
      "174649/174649 [==============================] - 58s 329us/step - loss: 0.7952 - acc: 0.9794 - val_loss: 1.0806 - val_acc: 0.9421\n",
      "Epoch 12/100\n",
      "174649/174649 [==============================] - 58s 331us/step - loss: 0.7956 - acc: 0.9789 - val_loss: 1.0866 - val_acc: 0.9390\n",
      "Epoch 13/100\n",
      "174649/174649 [==============================] - 58s 333us/step - loss: 0.7935 - acc: 0.9791 - val_loss: 1.0701 - val_acc: 0.9416\n",
      "Epoch 14/100\n",
      "174649/174649 [==============================] - 58s 332us/step - loss: 0.7729 - acc: 0.9810 - val_loss: 1.0344 - val_acc: 0.9439\n",
      "Epoch 15/100\n",
      "174649/174649 [==============================] - 58s 332us/step - loss: 0.7645 - acc: 0.9802 - val_loss: 1.0438 - val_acc: 0.9447\n",
      "Epoch 16/100\n",
      "174649/174649 [==============================] - 58s 332us/step - loss: 0.7645 - acc: 0.9806 - val_loss: 1.0330 - val_acc: 0.9442\n",
      "Epoch 17/100\n",
      "174649/174649 [==============================] - 58s 331us/step - loss: 0.7622 - acc: 0.9802 - val_loss: 1.0465 - val_acc: 0.9431\n",
      "Epoch 18/100\n",
      "174649/174649 [==============================] - 58s 330us/step - loss: 0.7634 - acc: 0.9806 - val_loss: 1.0340 - val_acc: 0.9459\n",
      "Epoch 19/100\n",
      "174649/174649 [==============================] - 58s 330us/step - loss: 0.7552 - acc: 0.9807 - val_loss: 1.0086 - val_acc: 0.9451\n",
      "Epoch 20/100\n",
      "174649/174649 [==============================] - 58s 330us/step - loss: 0.7412 - acc: 0.9812 - val_loss: 1.0051 - val_acc: 0.9440\n",
      "Epoch 21/100\n",
      "174649/174649 [==============================] - 58s 331us/step - loss: 0.7356 - acc: 0.9816 - val_loss: 0.9922 - val_acc: 0.9443\n",
      "Epoch 22/100\n",
      "174649/174649 [==============================] - 58s 330us/step - loss: 0.7337 - acc: 0.9814 - val_loss: 1.0079 - val_acc: 0.9469\n",
      "Epoch 23/100\n",
      "174649/174649 [==============================] - 58s 331us/step - loss: 0.7446 - acc: 0.9812 - val_loss: 0.9897 - val_acc: 0.9481\n",
      "Epoch 24/100\n",
      "174649/174649 [==============================] - 58s 330us/step - loss: 0.7316 - acc: 0.9821 - val_loss: 0.9969 - val_acc: 0.9473\n",
      "Epoch 25/100\n",
      "174649/174649 [==============================] - 57s 329us/step - loss: 0.7363 - acc: 0.9812 - val_loss: 0.9762 - val_acc: 0.9482\n",
      "Epoch 26/100\n",
      "174649/174649 [==============================] - 58s 330us/step - loss: 0.7223 - acc: 0.9821 - val_loss: 0.9765 - val_acc: 0.9474\n",
      "Epoch 27/100\n",
      "174649/174649 [==============================] - 58s 329us/step - loss: 0.7237 - acc: 0.9816 - val_loss: 0.9848 - val_acc: 0.9475\n",
      "Epoch 28/100\n",
      "174649/174649 [==============================] - 58s 333us/step - loss: 0.7232 - acc: 0.9818 - val_loss: 0.9876 - val_acc: 0.9466\n",
      "Epoch 29/100\n",
      "174649/174649 [==============================] - 58s 331us/step - loss: 0.7214 - acc: 0.9822 - val_loss: 0.9716 - val_acc: 0.9496\n",
      "Epoch 30/100\n",
      "174649/174649 [==============================] - 58s 331us/step - loss: 0.7263 - acc: 0.9817 - val_loss: 0.9767 - val_acc: 0.9473\n",
      "Epoch 31/100\n",
      "174649/174649 [==============================] - 58s 330us/step - loss: 0.7267 - acc: 0.9820 - val_loss: 0.9621 - val_acc: 0.9485\n",
      "Epoch 32/100\n",
      "174649/174649 [==============================] - 58s 333us/step - loss: 0.7153 - acc: 0.9821 - val_loss: 0.9709 - val_acc: 0.9465\n",
      "Epoch 33/100\n",
      "174649/174649 [==============================] - 58s 332us/step - loss: 0.7082 - acc: 0.9830 - val_loss: 0.9525 - val_acc: 0.9477\n",
      "Epoch 34/100\n",
      "174649/174649 [==============================] - 58s 332us/step - loss: 0.7119 - acc: 0.9818 - val_loss: 0.9653 - val_acc: 0.9488\n",
      "Epoch 35/100\n",
      "174649/174649 [==============================] - 58s 330us/step - loss: 0.7120 - acc: 0.9830 - val_loss: 0.9560 - val_acc: 0.9473\n",
      "Epoch 36/100\n",
      "174649/174649 [==============================] - 58s 332us/step - loss: 0.7086 - acc: 0.9822 - val_loss: 0.9539 - val_acc: 0.9526\n",
      "Epoch 37/100\n",
      "174649/174649 [==============================] - 58s 331us/step - loss: 0.7156 - acc: 0.9821 - val_loss: 0.9632 - val_acc: 0.9477\n",
      "Epoch 38/100\n",
      "174649/174649 [==============================] - 58s 330us/step - loss: 0.7063 - acc: 0.9831 - val_loss: 0.9591 - val_acc: 0.9474\n",
      "Epoch 39/100\n",
      "174649/174649 [==============================] - 58s 329us/step - loss: 0.7006 - acc: 0.9827 - val_loss: 0.9565 - val_acc: 0.9505\n",
      "Epoch 40/100\n",
      "174649/174649 [==============================] - 58s 330us/step - loss: 0.7049 - acc: 0.9825 - val_loss: 0.9480 - val_acc: 0.9500\n",
      "Epoch 41/100\n",
      "174649/174649 [==============================] - 58s 330us/step - loss: 0.7047 - acc: 0.9827 - val_loss: 0.9422 - val_acc: 0.9482\n",
      "Epoch 42/100\n",
      "174649/174649 [==============================] - 58s 331us/step - loss: 0.7016 - acc: 0.9824 - val_loss: 0.9452 - val_acc: 0.9507\n",
      "Epoch 43/100\n",
      "174649/174649 [==============================] - 58s 332us/step - loss: 0.7074 - acc: 0.9825 - val_loss: 0.9450 - val_acc: 0.9490\n",
      "Epoch 44/100\n",
      "174649/174649 [==============================] - 58s 331us/step - loss: 0.7067 - acc: 0.9825 - val_loss: 0.9301 - val_acc: 0.9533\n",
      "Epoch 45/100\n",
      "174649/174649 [==============================] - 58s 330us/step - loss: 0.6878 - acc: 0.9840 - val_loss: 0.9211 - val_acc: 0.9567\n",
      "Epoch 46/100\n",
      "174649/174649 [==============================] - 58s 330us/step - loss: 0.6925 - acc: 0.9830 - val_loss: 0.9335 - val_acc: 0.9516\n",
      "Epoch 47/100\n",
      "174649/174649 [==============================] - 57s 328us/step - loss: 0.6981 - acc: 0.9831 - val_loss: 0.9328 - val_acc: 0.9504\n",
      "Epoch 48/100\n",
      "174649/174649 [==============================] - 57s 329us/step - loss: 0.6960 - acc: 0.9832 - val_loss: 0.9405 - val_acc: 0.9514\n",
      "Epoch 49/100\n",
      "174649/174649 [==============================] - 58s 330us/step - loss: 0.6988 - acc: 0.9830 - val_loss: 0.9349 - val_acc: 0.9522\n",
      "Epoch 50/100\n",
      "174649/174649 [==============================] - 58s 331us/step - loss: 0.6887 - acc: 0.9839 - val_loss: 0.9246 - val_acc: 0.9519\n",
      "Epoch 51/100\n",
      "174649/174649 [==============================] - 58s 331us/step - loss: 0.6988 - acc: 0.9825 - val_loss: 0.9397 - val_acc: 0.9520\n",
      "Epoch 52/100\n",
      "174649/174649 [==============================] - 58s 332us/step - loss: 0.6937 - acc: 0.9838 - val_loss: 0.9192 - val_acc: 0.9515\n",
      "Epoch 53/100\n",
      "174649/174649 [==============================] - 58s 332us/step - loss: 0.6894 - acc: 0.9832 - val_loss: 0.9154 - val_acc: 0.9533\n",
      "Epoch 54/100\n",
      "174649/174649 [==============================] - 58s 330us/step - loss: 0.7050 - acc: 0.9828 - val_loss: 0.9548 - val_acc: 0.9515\n",
      "Epoch 55/100\n",
      "174649/174649 [==============================] - 58s 330us/step - loss: 0.7099 - acc: 0.9828 - val_loss: 0.9298 - val_acc: 0.9504\n",
      "Epoch 56/100\n",
      "174649/174649 [==============================] - 58s 330us/step - loss: 0.6830 - acc: 0.9839 - val_loss: 0.9113 - val_acc: 0.9520\n",
      "Epoch 57/100\n",
      "174649/174649 [==============================] - 57s 328us/step - loss: 0.6868 - acc: 0.9835 - val_loss: 0.9204 - val_acc: 0.9514\n",
      "Epoch 58/100\n",
      "174649/174649 [==============================] - 57s 328us/step - loss: 0.6832 - acc: 0.9833 - val_loss: 0.9329 - val_acc: 0.9503\n",
      "Epoch 59/100\n",
      "174649/174649 [==============================] - 58s 330us/step - loss: 0.6939 - acc: 0.9833 - val_loss: 0.9303 - val_acc: 0.9512\n",
      "Epoch 60/100\n",
      "174649/174649 [==============================] - 58s 333us/step - loss: 0.6935 - acc: 0.9835 - val_loss: 0.9344 - val_acc: 0.9509\n",
      "Epoch 61/100\n",
      "174649/174649 [==============================] - 58s 333us/step - loss: 0.6830 - acc: 0.9840 - val_loss: 0.9186 - val_acc: 0.9526\n",
      "Epoch 62/100\n",
      "174649/174649 [==============================] - 58s 334us/step - loss: 0.6793 - acc: 0.9836 - val_loss: 0.9254 - val_acc: 0.9486\n",
      "Epoch 63/100\n",
      "174649/174649 [==============================] - 58s 331us/step - loss: 0.6885 - acc: 0.9836 - val_loss: 0.9187 - val_acc: 0.9512\n",
      "Epoch 64/100\n",
      "174649/174649 [==============================] - 58s 332us/step - loss: 0.6899 - acc: 0.9830 - val_loss: 0.9404 - val_acc: 0.9503\n",
      "Epoch 65/100\n",
      "174649/174649 [==============================] - 58s 331us/step - loss: 0.6867 - acc: 0.9840 - val_loss: 0.9343 - val_acc: 0.9501\n",
      "Epoch 66/100\n",
      "174649/174649 [==============================] - 58s 332us/step - loss: 0.6749 - acc: 0.9848 - val_loss: 0.9226 - val_acc: 0.9520\n",
      "Epoch 67/100\n",
      "174649/174649 [==============================] - 58s 332us/step - loss: 0.6815 - acc: 0.9838 - val_loss: 0.9238 - val_acc: 0.9504\n",
      "Epoch 68/100\n",
      "174649/174649 [==============================] - 58s 333us/step - loss: 0.6903 - acc: 0.9831 - val_loss: 0.9389 - val_acc: 0.9494\n",
      "Epoch 69/100\n",
      "174649/174649 [==============================] - 58s 335us/step - loss: 0.6940 - acc: 0.9834 - val_loss: 0.9346 - val_acc: 0.9534\n",
      "Epoch 70/100\n",
      "174649/174649 [==============================] - 59s 336us/step - loss: 0.6920 - acc: 0.9834 - val_loss: 0.9226 - val_acc: 0.9509\n",
      "Epoch 71/100\n",
      "174649/174649 [==============================] - 58s 335us/step - loss: 0.6789 - acc: 0.9843 - val_loss: 0.9308 - val_acc: 0.9477\n",
      "Epoch 72/100\n",
      "174649/174649 [==============================] - 58s 332us/step - loss: 0.6870 - acc: 0.9833 - val_loss: 0.9104 - val_acc: 0.9541\n",
      "Epoch 73/100\n",
      "174649/174649 [==============================] - 58s 332us/step - loss: 0.6858 - acc: 0.9839 - val_loss: 0.9153 - val_acc: 0.9508\n",
      "Epoch 74/100\n",
      "174649/174649 [==============================] - 58s 332us/step - loss: 0.6820 - acc: 0.9835 - val_loss: 0.9178 - val_acc: 0.9545\n",
      "Epoch 75/100\n",
      "174649/174649 [==============================] - 58s 331us/step - loss: 0.6906 - acc: 0.9834 - val_loss: 0.9078 - val_acc: 0.9545\n",
      "Epoch 76/100\n",
      "174649/174649 [==============================] - 58s 331us/step - loss: 0.6876 - acc: 0.9833 - val_loss: 0.9163 - val_acc: 0.9535\n",
      "Epoch 77/100\n",
      "174649/174649 [==============================] - 58s 333us/step - loss: 0.6915 - acc: 0.9833 - val_loss: 0.9098 - val_acc: 0.9527\n",
      "Epoch 78/100\n",
      "174649/174649 [==============================] - 58s 333us/step - loss: 0.6807 - acc: 0.9840 - val_loss: 0.9013 - val_acc: 0.9538\n",
      "Epoch 79/100\n",
      "174649/174649 [==============================] - 58s 333us/step - loss: 0.6618 - acc: 0.9845 - val_loss: 0.9025 - val_acc: 0.9528\n",
      "Epoch 80/100\n",
      "174649/174649 [==============================] - 58s 334us/step - loss: 0.6743 - acc: 0.9841 - val_loss: 0.9095 - val_acc: 0.9530\n",
      "Epoch 81/100\n",
      "174649/174649 [==============================] - 58s 332us/step - loss: 0.6936 - acc: 0.9826 - val_loss: 0.9342 - val_acc: 0.9523\n",
      "Epoch 82/100\n",
      "174649/174649 [==============================] - 58s 332us/step - loss: 0.6959 - acc: 0.9838 - val_loss: 0.9048 - val_acc: 0.9547\n",
      "Epoch 83/100\n",
      "174649/174649 [==============================] - 58s 331us/step - loss: 0.6716 - acc: 0.9842 - val_loss: 0.8970 - val_acc: 0.9556\n",
      "Epoch 84/100\n",
      "174649/174649 [==============================] - 58s 331us/step - loss: 0.6770 - acc: 0.9841 - val_loss: 0.9096 - val_acc: 0.9518\n",
      "Epoch 85/100\n",
      "174649/174649 [==============================] - 58s 331us/step - loss: 0.6730 - acc: 0.9843 - val_loss: 0.8935 - val_acc: 0.9549\n",
      "Epoch 86/100\n",
      " 84992/174649 [=============>................] - ETA: 29s - loss: 0.6789 - acc: 0.9861Buffered data was truncated after reaching the output size limit."
     ]
    }
   ],
   "source": [
    "history = model.fit(\n",
    "    train_ohe, y_train,\n",
    "    epochs=100, batch_size=256,\n",
    "    validation_data=(val_ohe, y_val))"
   ]
  },
  {
   "cell_type": "code",
   "execution_count": 0,
   "metadata": {
    "colab": {},
    "colab_type": "code",
    "id": "kK7sr-pBIR2w"
   },
   "outputs": [],
   "source": [
    "# saving model weights.\n",
    "model.save_weights('drive/My Drive/Case_Study/pfam/model.h5')"
   ]
  },
  {
   "cell_type": "code",
   "execution_count": 0,
   "metadata": {
    "colab": {
     "base_uri": "https://localhost:8080/",
     "height": 337
    },
    "colab_type": "code",
    "id": "P4xFSobOhAqv",
    "outputId": "77a22ca4-7dfb-404f-d052-a3cd3dcf2c79"
   },
   "outputs": [
    {
     "data": {
      "image/png": "[encoded data removed]",
      "text/plain": [
       "<Figure size 864x360 with 2 Axes>"
      ]
     },
     "metadata": {
      "tags": []
     },
     "output_type": "display_data"
    }
   ],
   "source": [
    "plot_history(history)"
   ]
  },
  {
   "cell_type": "code",
   "execution_count": 0,
   "metadata": {
    "colab": {
     "base_uri": "https://localhost:8080/",
     "height": 67
    },
    "colab_type": "code",
    "id": "cfgAcrWcF-f5",
    "outputId": "dc49a3a8-f62f-4f72-c5e0-99a289745aaa"
   },
   "outputs": [
    {
     "name": "stdout",
     "output_type": "stream",
     "text": [
      "7370/7370 [==============================] - 1s 187us/step\n",
      "Test loss:  0.8928959113610163\n",
      "Test accuracy:  0.9553595660499511\n"
     ]
    }
   ],
   "source": [
    "test_score = model.evaluate(test_ohe, y_test, batch_size=256, verbose=1)\n",
    "print('Test loss: ', test_score[0])\n",
    "print('Test accuracy: ', test_score[1])"
   ]
  },
  {
   "cell_type": "markdown",
   "metadata": {
    "colab_type": "text",
    "id": "3u42Zf2bLxmM"
   },
   "source": [
    "## 5. Conclusion"
   ]
  },
  {
   "cell_type": "code",
   "execution_count": 70,
   "metadata": {
    "colab": {
     "base_uri": "https://localhost:8080/",
     "height": 118
    },
    "colab_type": "code",
    "id": "MyPhPwMnL0af",
    "outputId": "f3cf9e71-ff1f-4113-bbd0-854417150aaf"
   },
   "outputs": [
    {
     "name": "stdout",
     "output_type": "stream",
     "text": [
      "+-------+--------------------+----------+\n",
      "| Sr.no |       Model        | Test Acc |\n",
      "+-------+--------------------+----------+\n",
      "|   1.  | Bidirectional LSTM |  0.894   |\n",
      "|   2.  |      ProtCNN       |  0.955   |\n",
      "+-------+--------------------+----------+\n"
     ]
    }
   ],
   "source": [
    "x = PrettyTable()\n",
    "x.field_names = ['Sr.no', 'Model', 'Test Acc']\n",
    "\n",
    "x.add_row(['1.', 'Bidirectional LSTM', '0.894'])\n",
    "x.add_row(['2.', 'ProtCNN', '0.955'])\n",
    "\n",
    "print(x)"
   ]
  },
  {
   "cell_type": "markdown",
   "metadata": {
    "colab_type": "text",
    "id": "OY0HAjgRQwii"
   },
   "source": [
    "### Reference:\n",
    "\n",
    "- https://www.biorxiv.org/content/10.1101/626507v4.full"
   ]
  }
 ],
 "metadata": {
  "accelerator": "GPU",
  "colab": {
   "collapsed_sections": [],
   "machine_shape": "hm",
   "name": "Pfam_protein_sequence_classification.ipynb",
   "provenance": []
  },
  "kernelspec": {
   "display_name": "Python 3",
   "language": "python",
   "name": "python3"
  },
  "language_info": {
   "codemirror_mode": {
    "name": "ipython",
    "version": 3
   },
   "file_extension": ".py",
   "mimetype": "text/x-python",
   "name": "python",
   "nbconvert_exporter": "python",
   "pygments_lexer": "ipython3",
   "version": "3.6.5"
  }
 },
 "nbformat": 4,
 "nbformat_minor": 1
}
